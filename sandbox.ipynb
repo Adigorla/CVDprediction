{
 "cells": [
  {
   "cell_type": "code",
   "execution_count": 1,
   "metadata": {},
   "outputs": [],
   "source": [
    "%matplotlib inline\n",
    "\n",
    "import matplotlib.pyplot as plt\n",
    "import matplotlib.image as mpimg\n",
    "import seaborn as sns\n",
    "import pandas as pd\n",
    "import numpy as np\n",
    "import copy\n",
    "from sklearn.utils import resample\n",
    "from sklearn.preprocessing import scale, StandardScaler\n",
    "from sklearn.cross_decomposition import PLSRegression\n",
    "from sklearn.linear_model import LogisticRegression, LogisticRegressionCV\n",
    "from sklearn.svm import SVC\n",
    "from sklearn.model_selection import train_test_split, LeaveOneGroupOut, LeaveOneOut\n",
    "from sklearn.feature_selection import RFE, RFECV\n",
    "from sklearn.metrics import r2_score\n",
    "from imblearn.over_sampling import SMOTE\n",
    "from sklearn.metrics import log_loss, confusion_matrix, classification_report, roc_curve, roc_auc_score\n",
    "# from sklearn.exceptions import DataConversionWarning\n",
    "# warnings.filterwarnings(action='ignore', category=DataConversionWarning)\n",
    "\n",
    "train_values = np.loadtxt(\"train_values.csv\", delimiter=\",\", dtype=object)\n",
    "train_labels = np.loadtxt(\"train_labels.csv\", delimiter=\",\", dtype=object)\n",
    "\n",
    "d = np.empty(15, dtype=object)\n",
    "\n",
    "d[0],d[1],d[2],d[3],d[4],d[5],d[6],d[7],d[8],d[9],d[10],d[11],d[12],d[13] = np.hsplit(train_values, 14)\n",
    "d[0],d[14] = np.hsplit(train_labels, 2)\n",
    "\n",
    "atributes = {}\n",
    "\n",
    "for n,obj in enumerate(d):\n",
    "    atributes[n] = obj[0][0]\n",
    "    d[n] = np.squeeze(d[n])[1:]\n",
    "\n",
    "#NOTE: the columns lable in pd.df is numeric. For a given column N, its property corresponds to atributes[N+1]\n",
    "data = pd.DataFrame(data=d[1],index=d[0])\n",
    "for n in range(15):\n",
    "    if n < 2:\n",
    "        continue\n",
    "    data[n-1] = d[n]"
   ]
  },
  {
   "cell_type": "markdown",
   "metadata": {},
   "source": [
    "#### The 14 features are describedbelow:\n",
    "\n",
    "- slope_of_peak_exercise_st_segment (type: int): the slope of the peak exercise ST segment, an electrocardiography read out indicating quality of blood flow to the heart\n",
    "- thal (type: categorical): results of thallium stress test measuring blood flow to the heart, with possible values normal, fixed_defect, reversible_defect\n",
    "- resting_blood_pressure (type: int): resting blood pressure\n",
    "- chest_pain_type (type: int): chest pain type (4 values)\n",
    "- num_major_vessels (type: int): number of major vessels (0-3) colored by flourosopy\n",
    "- fasting_blood_sugar_gt_120_mg_per_dl (type: binary): fasting blood sugar > 120 mg/dl\n",
    "- resting_ekg_results (type: int): resting electrocardiographic results (values 0,1,2)\n",
    "- serum_cholesterol_mg_per_dl (type: int): serum cholestoral in mg/dl\n",
    "- oldpeak_eq_st_depression (type: float): oldpeak = ST depression induced by exercise relative to rest, a measure of abnormality in electrocardiograms\n",
    "- sex (type: binary): 0: female, 1: male\n",
    "- age (type: int): age in years\n",
    "- max_heart_rate_achieved (type: int): maximum heart rate achieved (beats per minute)\n",
    "- exercise_induced_angina (type: binary): exercise-induced chest pain (0: False, 1: True)\n",
    "- heart_disease_present (type: binary): 0: heart disease not present, 1: heart disease present \n",
    "\n",
    "NOTE: The index in data corresponds to patient ID"
   ]
  },
  {
   "cell_type": "code",
   "execution_count": 2,
   "metadata": {},
   "outputs": [
    {
     "name": "stdout",
     "output_type": "stream",
     "text": [
      "{0: 'patient_id', 1: 'slope_of_peak_exercise_st_segment', 2: 'thal', 3: 'resting_blood_pressure', 4: 'chest_pain_type', 5: 'num_major_vessels', 6: 'fasting_blood_sugar_gt_120_mg_per_dl', 7: 'resting_ekg_results', 8: 'serum_cholesterol_mg_per_dl', 9: 'oldpeak_eq_st_depression', 10: 'sex', 11: 'age', 12: 'max_heart_rate_achieved', 13: 'exercise_induced_angina', 14: 'heart_disease_present'}\n"
     ]
    },
    {
     "data": {
      "text/html": [
       "<div>\n",
       "<style scoped>\n",
       "    .dataframe tbody tr th:only-of-type {\n",
       "        vertical-align: middle;\n",
       "    }\n",
       "\n",
       "    .dataframe tbody tr th {\n",
       "        vertical-align: top;\n",
       "    }\n",
       "\n",
       "    .dataframe thead th {\n",
       "        text-align: right;\n",
       "    }\n",
       "</style>\n",
       "<table border=\"1\" class=\"dataframe\">\n",
       "  <thead>\n",
       "    <tr style=\"text-align: right;\">\n",
       "      <th></th>\n",
       "      <th>0</th>\n",
       "      <th>1</th>\n",
       "      <th>2</th>\n",
       "      <th>3</th>\n",
       "      <th>4</th>\n",
       "      <th>5</th>\n",
       "      <th>6</th>\n",
       "      <th>7</th>\n",
       "      <th>8</th>\n",
       "      <th>9</th>\n",
       "      <th>10</th>\n",
       "      <th>11</th>\n",
       "      <th>12</th>\n",
       "      <th>13</th>\n",
       "    </tr>\n",
       "  </thead>\n",
       "  <tbody>\n",
       "    <tr>\n",
       "      <th>0z64un</th>\n",
       "      <td>1</td>\n",
       "      <td>normal</td>\n",
       "      <td>128</td>\n",
       "      <td>2</td>\n",
       "      <td>0</td>\n",
       "      <td>0</td>\n",
       "      <td>2</td>\n",
       "      <td>308</td>\n",
       "      <td>0.0</td>\n",
       "      <td>1</td>\n",
       "      <td>45</td>\n",
       "      <td>170</td>\n",
       "      <td>0</td>\n",
       "      <td>0</td>\n",
       "    </tr>\n",
       "    <tr>\n",
       "      <th>ryoo3j</th>\n",
       "      <td>2</td>\n",
       "      <td>normal</td>\n",
       "      <td>110</td>\n",
       "      <td>3</td>\n",
       "      <td>0</td>\n",
       "      <td>0</td>\n",
       "      <td>0</td>\n",
       "      <td>214</td>\n",
       "      <td>1.6</td>\n",
       "      <td>0</td>\n",
       "      <td>54</td>\n",
       "      <td>158</td>\n",
       "      <td>0</td>\n",
       "      <td>0</td>\n",
       "    </tr>\n",
       "    <tr>\n",
       "      <th>yt1s1x</th>\n",
       "      <td>1</td>\n",
       "      <td>normal</td>\n",
       "      <td>125</td>\n",
       "      <td>4</td>\n",
       "      <td>3</td>\n",
       "      <td>0</td>\n",
       "      <td>2</td>\n",
       "      <td>304</td>\n",
       "      <td>0.0</td>\n",
       "      <td>1</td>\n",
       "      <td>77</td>\n",
       "      <td>162</td>\n",
       "      <td>1</td>\n",
       "      <td>1</td>\n",
       "    </tr>\n",
       "    <tr>\n",
       "      <th>l2xjde</th>\n",
       "      <td>1</td>\n",
       "      <td>reversible_defect</td>\n",
       "      <td>152</td>\n",
       "      <td>4</td>\n",
       "      <td>0</td>\n",
       "      <td>0</td>\n",
       "      <td>0</td>\n",
       "      <td>223</td>\n",
       "      <td>0.0</td>\n",
       "      <td>1</td>\n",
       "      <td>40</td>\n",
       "      <td>181</td>\n",
       "      <td>0</td>\n",
       "      <td>1</td>\n",
       "    </tr>\n",
       "    <tr>\n",
       "      <th>oyt4ek</th>\n",
       "      <td>3</td>\n",
       "      <td>reversible_defect</td>\n",
       "      <td>178</td>\n",
       "      <td>1</td>\n",
       "      <td>0</td>\n",
       "      <td>0</td>\n",
       "      <td>2</td>\n",
       "      <td>270</td>\n",
       "      <td>4.2</td>\n",
       "      <td>1</td>\n",
       "      <td>59</td>\n",
       "      <td>145</td>\n",
       "      <td>0</td>\n",
       "      <td>0</td>\n",
       "    </tr>\n",
       "  </tbody>\n",
       "</table>\n",
       "</div>"
      ],
      "text/plain": [
       "       0                  1    2  3  4  5  6    7    8  9   10   11 12 13\n",
       "0z64un  1             normal  128  2  0  0  2  308  0.0  1  45  170  0  0\n",
       "ryoo3j  2             normal  110  3  0  0  0  214  1.6  0  54  158  0  0\n",
       "yt1s1x  1             normal  125  4  3  0  2  304  0.0  1  77  162  1  1\n",
       "l2xjde  1  reversible_defect  152  4  0  0  0  223  0.0  1  40  181  0  1\n",
       "oyt4ek  3  reversible_defect  178  1  0  0  2  270  4.2  1  59  145  0  0"
      ]
     },
     "execution_count": 2,
     "metadata": {},
     "output_type": "execute_result"
    }
   ],
   "source": [
    "print(atributes)\n",
    "data.head()"
   ]
  },
  {
   "cell_type": "code",
   "execution_count": 3,
   "metadata": {},
   "outputs": [
    {
     "data": {
      "text/plain": [
       "0    100\n",
       "1     80\n",
       "Name: 13, dtype: int64"
      ]
     },
     "execution_count": 3,
     "metadata": {},
     "output_type": "execute_result"
    }
   ],
   "source": [
    "# Counts for heart_disease_present in training data\n",
    "data[13].value_counts()"
   ]
  },
  {
   "cell_type": "code",
   "execution_count": 4,
   "metadata": {},
   "outputs": [
    {
     "name": "stdout",
     "output_type": "stream",
     "text": [
      "0      float64\n",
      "1     category\n",
      "2      float64\n",
      "3      float64\n",
      "4      float64\n",
      "5      float64\n",
      "6      float64\n",
      "7      float64\n",
      "8      float64\n",
      "9      float64\n",
      "10     float64\n",
      "11     float64\n",
      "12     float64\n",
      "13       int64\n",
      "dtype: object\n"
     ]
    },
    {
     "data": {
      "text/html": [
       "<div>\n",
       "<style scoped>\n",
       "    .dataframe tbody tr th:only-of-type {\n",
       "        vertical-align: middle;\n",
       "    }\n",
       "\n",
       "    .dataframe tbody tr th {\n",
       "        vertical-align: top;\n",
       "    }\n",
       "\n",
       "    .dataframe thead th {\n",
       "        text-align: right;\n",
       "    }\n",
       "</style>\n",
       "<table border=\"1\" class=\"dataframe\">\n",
       "  <thead>\n",
       "    <tr style=\"text-align: right;\">\n",
       "      <th></th>\n",
       "      <th>0</th>\n",
       "      <th>2</th>\n",
       "      <th>3</th>\n",
       "      <th>4</th>\n",
       "      <th>5</th>\n",
       "      <th>6</th>\n",
       "      <th>7</th>\n",
       "      <th>8</th>\n",
       "      <th>9</th>\n",
       "      <th>10</th>\n",
       "      <th>11</th>\n",
       "      <th>12</th>\n",
       "    </tr>\n",
       "    <tr>\n",
       "      <th>13</th>\n",
       "      <th></th>\n",
       "      <th></th>\n",
       "      <th></th>\n",
       "      <th></th>\n",
       "      <th></th>\n",
       "      <th></th>\n",
       "      <th></th>\n",
       "      <th></th>\n",
       "      <th></th>\n",
       "      <th></th>\n",
       "      <th></th>\n",
       "      <th></th>\n",
       "    </tr>\n",
       "  </thead>\n",
       "  <tbody>\n",
       "    <tr>\n",
       "      <th>0</th>\n",
       "      <td>1.3600</td>\n",
       "      <td>130.12</td>\n",
       "      <td>2.8100</td>\n",
       "      <td>0.33</td>\n",
       "      <td>0.1600</td>\n",
       "      <td>0.9200</td>\n",
       "      <td>245.46</td>\n",
       "      <td>0.62700</td>\n",
       "      <td>0.5500</td>\n",
       "      <td>53.66</td>\n",
       "      <td>156.87</td>\n",
       "      <td>0.13</td>\n",
       "    </tr>\n",
       "    <tr>\n",
       "      <th>1</th>\n",
       "      <td>1.7875</td>\n",
       "      <td>132.80</td>\n",
       "      <td>3.5875</td>\n",
       "      <td>1.15</td>\n",
       "      <td>0.1625</td>\n",
       "      <td>1.2125</td>\n",
       "      <td>253.90</td>\n",
       "      <td>1.48875</td>\n",
       "      <td>0.8625</td>\n",
       "      <td>56.25</td>\n",
       "      <td>140.25</td>\n",
       "      <td>0.55</td>\n",
       "    </tr>\n",
       "  </tbody>\n",
       "</table>\n",
       "</div>"
      ],
      "text/plain": [
       "        0       2       3     4       5       6       7        8       9   \\\n",
       "13                                                                          \n",
       "0   1.3600  130.12  2.8100  0.33  0.1600  0.9200  245.46  0.62700  0.5500   \n",
       "1   1.7875  132.80  3.5875  1.15  0.1625  1.2125  253.90  1.48875  0.8625   \n",
       "\n",
       "       10      11    12  \n",
       "13                       \n",
       "0   53.66  156.87  0.13  \n",
       "1   56.25  140.25  0.55  "
      ]
     },
     "execution_count": 4,
     "metadata": {},
     "output_type": "execute_result"
    }
   ],
   "source": [
    "data = (data.astype({0: 'float64', 1: 'category', 2: 'float64', 3: 'float64', 4: 'float64', 5: 'float64', 6: 'float64', 7: 'float64',\n",
    "                    8: 'float64', 9: 'float64', 10: 'float64', 11: 'float64', 12: 'float64', 13: 'int64'}))\n",
    "print(data.dtypes)\n",
    "\n",
    "# Average for each attribute whether or not heart_disease_present\n",
    "data.groupby(13).mean()"
   ]
  },
  {
   "cell_type": "code",
   "execution_count": 5,
   "metadata": {},
   "outputs": [
    {
     "data": {
      "text/html": [
       "<div>\n",
       "<style scoped>\n",
       "    .dataframe tbody tr th:only-of-type {\n",
       "        vertical-align: middle;\n",
       "    }\n",
       "\n",
       "    .dataframe tbody tr th {\n",
       "        vertical-align: top;\n",
       "    }\n",
       "\n",
       "    .dataframe thead th {\n",
       "        text-align: right;\n",
       "    }\n",
       "</style>\n",
       "<table border=\"1\" class=\"dataframe\">\n",
       "  <thead>\n",
       "    <tr style=\"text-align: right;\">\n",
       "      <th></th>\n",
       "      <th>0</th>\n",
       "      <th>2</th>\n",
       "      <th>3</th>\n",
       "      <th>4</th>\n",
       "      <th>5</th>\n",
       "      <th>6</th>\n",
       "      <th>7</th>\n",
       "      <th>8</th>\n",
       "      <th>9</th>\n",
       "      <th>10</th>\n",
       "      <th>11</th>\n",
       "      <th>12</th>\n",
       "      <th>13</th>\n",
       "    </tr>\n",
       "    <tr>\n",
       "      <th>1</th>\n",
       "      <th></th>\n",
       "      <th></th>\n",
       "      <th></th>\n",
       "      <th></th>\n",
       "      <th></th>\n",
       "      <th></th>\n",
       "      <th></th>\n",
       "      <th></th>\n",
       "      <th></th>\n",
       "      <th></th>\n",
       "      <th></th>\n",
       "      <th></th>\n",
       "      <th></th>\n",
       "    </tr>\n",
       "  </thead>\n",
       "  <tbody>\n",
       "    <tr>\n",
       "      <th>fixed_defect</th>\n",
       "      <td>2.000000</td>\n",
       "      <td>141.375000</td>\n",
       "      <td>3.125000</td>\n",
       "      <td>0.625000</td>\n",
       "      <td>0.375000</td>\n",
       "      <td>1.250000</td>\n",
       "      <td>227.250000</td>\n",
       "      <td>1.300000</td>\n",
       "      <td>1.000000</td>\n",
       "      <td>57.875000</td>\n",
       "      <td>136.000000</td>\n",
       "      <td>0.250000</td>\n",
       "      <td>0.500000</td>\n",
       "    </tr>\n",
       "    <tr>\n",
       "      <th>normal</th>\n",
       "      <td>1.377551</td>\n",
       "      <td>129.775510</td>\n",
       "      <td>2.897959</td>\n",
       "      <td>0.530612</td>\n",
       "      <td>0.153061</td>\n",
       "      <td>1.071429</td>\n",
       "      <td>250.255102</td>\n",
       "      <td>0.669388</td>\n",
       "      <td>0.510204</td>\n",
       "      <td>54.387755</td>\n",
       "      <td>154.938776</td>\n",
       "      <td>0.153061</td>\n",
       "      <td>0.204082</td>\n",
       "    </tr>\n",
       "    <tr>\n",
       "      <th>reversible_defect</th>\n",
       "      <td>1.729730</td>\n",
       "      <td>132.256757</td>\n",
       "      <td>3.500000</td>\n",
       "      <td>0.918919</td>\n",
       "      <td>0.148649</td>\n",
       "      <td>1.000000</td>\n",
       "      <td>250.202703</td>\n",
       "      <td>1.429730</td>\n",
       "      <td>0.891892</td>\n",
       "      <td>55.040541</td>\n",
       "      <td>143.716216</td>\n",
       "      <td>0.540541</td>\n",
       "      <td>0.756757</td>\n",
       "    </tr>\n",
       "  </tbody>\n",
       "</table>\n",
       "</div>"
      ],
      "text/plain": [
       "                         0           2         3         4         5   \\\n",
       "1                                                                       \n",
       "fixed_defect       2.000000  141.375000  3.125000  0.625000  0.375000   \n",
       "normal             1.377551  129.775510  2.897959  0.530612  0.153061   \n",
       "reversible_defect  1.729730  132.256757  3.500000  0.918919  0.148649   \n",
       "\n",
       "                         6           7         8         9          10  \\\n",
       "1                                                                        \n",
       "fixed_defect       1.250000  227.250000  1.300000  1.000000  57.875000   \n",
       "normal             1.071429  250.255102  0.669388  0.510204  54.387755   \n",
       "reversible_defect  1.000000  250.202703  1.429730  0.891892  55.040541   \n",
       "\n",
       "                           11        12        13  \n",
       "1                                                  \n",
       "fixed_defect       136.000000  0.250000  0.500000  \n",
       "normal             154.938776  0.153061  0.204082  \n",
       "reversible_defect  143.716216  0.540541  0.756757  "
      ]
     },
     "execution_count": 5,
     "metadata": {},
     "output_type": "execute_result"
    }
   ],
   "source": [
    "# Averages as separated by thalium stress test\n",
    "data.groupby(1).mean()"
   ]
  },
  {
   "cell_type": "code",
   "execution_count": 6,
   "metadata": {},
   "outputs": [
    {
     "name": "stdout",
     "output_type": "stream",
     "text": [
      "         0   1      2    3    4    5    6      7    8    9     10     11   12  \\\n",
      "0z64un  1.0   1  128.0  2.0  0.0  0.0  2.0  308.0  0.0  1.0  45.0  170.0  0.0   \n",
      "ryoo3j  2.0   1  110.0  3.0  0.0  0.0  0.0  214.0  1.6  0.0  54.0  158.0  0.0   \n",
      "yt1s1x  1.0   1  125.0  4.0  3.0  0.0  2.0  304.0  0.0  1.0  77.0  162.0  1.0   \n",
      "l2xjde  1.0   2  152.0  4.0  0.0  0.0  0.0  223.0  0.0  1.0  40.0  181.0  0.0   \n",
      "oyt4ek  3.0   2  178.0  1.0  0.0  0.0  2.0  270.0  4.2  1.0  59.0  145.0  0.0   \n",
      "\n",
      "        13  \n",
      "0z64un   0  \n",
      "ryoo3j   0  \n",
      "yt1s1x   1  \n",
      "l2xjde   1  \n",
      "oyt4ek   0  \n"
     ]
    }
   ],
   "source": [
    "category_col = data.select_dtypes(['category']).columns \n",
    "data[category_col] = data[category_col].apply(lambda x: x.cat.codes)\n",
    "print(data.head())"
   ]
  },
  {
   "cell_type": "code",
   "execution_count": 7,
   "metadata": {},
   "outputs": [
    {
     "data": {
      "text/html": [
       "<div>\n",
       "<style scoped>\n",
       "    .dataframe tbody tr th:only-of-type {\n",
       "        vertical-align: middle;\n",
       "    }\n",
       "\n",
       "    .dataframe tbody tr th {\n",
       "        vertical-align: top;\n",
       "    }\n",
       "\n",
       "    .dataframe thead th {\n",
       "        text-align: right;\n",
       "    }\n",
       "</style>\n",
       "<table border=\"1\" class=\"dataframe\">\n",
       "  <thead>\n",
       "    <tr style=\"text-align: right;\">\n",
       "      <th></th>\n",
       "      <th>0</th>\n",
       "      <th>1</th>\n",
       "      <th>2</th>\n",
       "      <th>3</th>\n",
       "      <th>4</th>\n",
       "      <th>5</th>\n",
       "      <th>6</th>\n",
       "      <th>7</th>\n",
       "      <th>8</th>\n",
       "      <th>9</th>\n",
       "      <th>10</th>\n",
       "      <th>11</th>\n",
       "      <th>12</th>\n",
       "    </tr>\n",
       "    <tr>\n",
       "      <th>13</th>\n",
       "      <th></th>\n",
       "      <th></th>\n",
       "      <th></th>\n",
       "      <th></th>\n",
       "      <th></th>\n",
       "      <th></th>\n",
       "      <th></th>\n",
       "      <th></th>\n",
       "      <th></th>\n",
       "      <th></th>\n",
       "      <th></th>\n",
       "      <th></th>\n",
       "      <th></th>\n",
       "    </tr>\n",
       "  </thead>\n",
       "  <tbody>\n",
       "    <tr>\n",
       "      <th>0</th>\n",
       "      <td>1.3600</td>\n",
       "      <td>1.14</td>\n",
       "      <td>130.12</td>\n",
       "      <td>2.8100</td>\n",
       "      <td>0.33</td>\n",
       "      <td>0.1600</td>\n",
       "      <td>0.9200</td>\n",
       "      <td>245.46</td>\n",
       "      <td>0.62700</td>\n",
       "      <td>0.5500</td>\n",
       "      <td>53.66</td>\n",
       "      <td>156.87</td>\n",
       "      <td>0.13</td>\n",
       "    </tr>\n",
       "    <tr>\n",
       "      <th>1</th>\n",
       "      <td>1.7875</td>\n",
       "      <td>1.65</td>\n",
       "      <td>132.80</td>\n",
       "      <td>3.5875</td>\n",
       "      <td>1.15</td>\n",
       "      <td>0.1625</td>\n",
       "      <td>1.2125</td>\n",
       "      <td>253.90</td>\n",
       "      <td>1.48875</td>\n",
       "      <td>0.8625</td>\n",
       "      <td>56.25</td>\n",
       "      <td>140.25</td>\n",
       "      <td>0.55</td>\n",
       "    </tr>\n",
       "  </tbody>\n",
       "</table>\n",
       "</div>"
      ],
      "text/plain": [
       "        0     1       2       3     4       5       6       7        8   \\\n",
       "13                                                                        \n",
       "0   1.3600  1.14  130.12  2.8100  0.33  0.1600  0.9200  245.46  0.62700   \n",
       "1   1.7875  1.65  132.80  3.5875  1.15  0.1625  1.2125  253.90  1.48875   \n",
       "\n",
       "        9      10      11    12  \n",
       "13                               \n",
       "0   0.5500  53.66  156.87  0.13  \n",
       "1   0.8625  56.25  140.25  0.55  "
      ]
     },
     "execution_count": 7,
     "metadata": {},
     "output_type": "execute_result"
    }
   ],
   "source": [
    "thal = {0:'fixed_defect', 1:'normal', 2:'reversible_defect'}\n",
    "data.groupby(13).mean()"
   ]
  },
  {
   "cell_type": "code",
   "execution_count": 8,
   "metadata": {},
   "outputs": [
    {
     "name": "stdout",
     "output_type": "stream",
     "text": [
      "         0   1      2    3    4    5    6      7    8    9     10     11   12\n",
      "0z64un  1.0   1  128.0  2.0  0.0  0.0  2.0  308.0  0.0  1.0  45.0  170.0  0.0\n",
      "ryoo3j  2.0   1  110.0  3.0  0.0  0.0  0.0  214.0  1.6  0.0  54.0  158.0  0.0\n",
      "yt1s1x  1.0   1  125.0  4.0  3.0  0.0  2.0  304.0  0.0  1.0  77.0  162.0  1.0\n",
      "l2xjde  1.0   2  152.0  4.0  0.0  0.0  0.0  223.0  0.0  1.0  40.0  181.0  0.0\n",
      "oyt4ek  3.0   2  178.0  1.0  0.0  0.0  2.0  270.0  4.2  1.0  59.0  145.0  0.0\n"
     ]
    },
    {
     "data": {
      "text/plain": [
       "(180, 13)"
      ]
     },
     "execution_count": 8,
     "metadata": {},
     "output_type": "execute_result"
    }
   ],
   "source": [
    "X = data.loc[:, data.columns != 13]\n",
    "y = np.array(data.loc[:, data.columns == 13]).reshape(180,)\n",
    "print(X.head())\n",
    "X.shape"
   ]
  },
  {
   "cell_type": "code",
   "execution_count": 9,
   "metadata": {},
   "outputs": [
    {
     "name": "stdout",
     "output_type": "stream",
     "text": [
      "length of oversampled data is  152\n",
      "Number of no heart disease in oversampled data 76\n",
      "Number of heart disease 76\n",
      "Proportion of no heart disease data in oversampled data is  0.5\n",
      "Proportion of heart disease data in oversampled data is  0.5\n"
     ]
    },
    {
     "name": "stderr",
     "output_type": "stream",
     "text": [
      "/Library/Frameworks/Python.framework/Versions/3.7/lib/python3.7/site-packages/sklearn/preprocessing/data.py:625: DataConversionWarning: Data with input dtype int8, float64 were all converted to float64 by StandardScaler.\n",
      "  return self.partial_fit(X, y)\n"
     ]
    }
   ],
   "source": [
    "sm = SMOTE(random_state=0)\n",
    "X_train, X_test, y_train, y_test = train_test_split(X, y, test_size=0.2, random_state=0)\n",
    "columns = X_train.columns\n",
    "sm_data_X, sm_data_y = sm.fit_sample(X_train, y_train)\n",
    "sm_data_X = pd.DataFrame(data = sm_data_X, columns = columns )\n",
    "sm_data_y= pd.DataFrame(sm_data_y) #IDK what you are trying to do here with the oversampling, i think you are trying to counter the uneven dist?\n",
    "\n",
    "scl = StandardScaler()\n",
    "scale = scl.fit(X_train)\n",
    "\n",
    "\n",
    "print(\"length of oversampled data is \",len(sm_data_X))\n",
    "print(\"Number of no heart disease in oversampled data\",len(sm_data_y[sm_data_y[0]==0]))\n",
    "print(\"Number of heart disease\",len(sm_data_y[sm_data_y[0]==1]))\n",
    "print(\"Proportion of no heart disease data in oversampled data is \",len(sm_data_y[sm_data_y[0]==0])/len(sm_data_X))\n",
    "print(\"Proportion of heart disease data in oversampled data is \",len(sm_data_y[sm_data_y[0]==1])/len(sm_data_X))"
   ]
  },
  {
   "cell_type": "code",
   "execution_count": 10,
   "metadata": {},
   "outputs": [
    {
     "name": "stdout",
     "output_type": "stream",
     "text": [
      "Accuracy of logistic regression classifier on test set: 0.8333333333333334\n",
      "log loss: 0.3536727338776259\n"
     ]
    }
   ],
   "source": [
    "#WITHOUT data Normalization\n",
    "logreg = LogisticRegression(multi_class = 'multinomial', solver='saga', penalty='l1', max_iter=10000, C=1)\n",
    "\n",
    "# fit the model with taining data\n",
    "logreg.fit(X_train,y_train) #there was a major dataleak here! make sure you dont test using the same data u used to train\n",
    "y_pred=logreg.predict(X_test)\n",
    "y_pred_prob = logreg.predict_proba(X_test)\n",
    "print(f'Accuracy of logistic regression classifier on test set: {logreg.score(X_test, y_test)}')\n",
    "lloss = log_loss(y_test, y_pred_prob)\n",
    "print(f'log loss: {lloss}')"
   ]
  },
  {
   "cell_type": "markdown",
   "metadata": {},
   "source": [
    "###### LogisticRegression(multi_class = 'multinomial', solver='saga', penalty='l1', max_iter=10000)\n",
    "    Accuracy of logistic regression classifier on test set: 0.8333333333333334\n",
    "    log loss: 0.3536771729189414\n",
    "###### LogisticRegression(multi_class = 'multinomial', solver='saga', penalty='l2', max_iter=10000)\n",
    "    Accuracy of logistic regression classifier on test set: 0.8055555555555556\n",
    "    log loss: 0.36027304512739483\n",
    "###### LogisticRegression(multi_class = 'multinomial', solver='sag', penalty='l2', max_iter=10000)\n",
    "    Accuracy of logistic regression classifier on test set: 0.8333333333333334\n",
    "    log loss: 0.3585651405396726\n",
    "###### LogisticRegression(multi_class = 'multinomial', solver='lbfgs', penalty='l2', max_iter=10000)\n",
    "    Accuracy of logistic regression classifier on test set: 0.8333333333333334\n",
    "    log loss: 0.42470468568912534\n",
    "###### LogisticRegression(multi_class = 'multinomial', solver='newton-cg', penalty='l2', max_iter=10000)\n",
    "    Accuracy of logistic regression classifier on test set: 0.8333333333333334\n",
    "    log loss: 0.42600636188623087\n",
    "###### LogisticRegression(multi_class = 'ovr', solver='liblinear', penalty='l2', max_iter=10000)\n",
    "    Accuracy of logistic regression classifier on test set: 0.8611111111111112\n",
    "    log loss: 0.3770715033919158"
   ]
  },
  {
   "cell_type": "code",
   "execution_count": 11,
   "metadata": {},
   "outputs": [
    {
     "name": "stdout",
     "output_type": "stream",
     "text": [
      "Accuracy of logistic regression classifier on test set: 0.8333333333333334\n",
      "log loss: 0.3488845199566538\n"
     ]
    },
    {
     "name": "stderr",
     "output_type": "stream",
     "text": [
      "/Library/Frameworks/Python.framework/Versions/3.7/lib/python3.7/site-packages/ipykernel_launcher.py:5: DataConversionWarning: Data with input dtype int8, float64 were all converted to float64 by StandardScaler.\n",
      "  \"\"\"\n",
      "/Library/Frameworks/Python.framework/Versions/3.7/lib/python3.7/site-packages/ipykernel_launcher.py:6: DataConversionWarning: Data with input dtype int8, float64 were all converted to float64 by StandardScaler.\n",
      "  \n",
      "/Library/Frameworks/Python.framework/Versions/3.7/lib/python3.7/site-packages/ipykernel_launcher.py:7: DataConversionWarning: Data with input dtype int8, float64 were all converted to float64 by StandardScaler.\n",
      "  import sys\n",
      "/Library/Frameworks/Python.framework/Versions/3.7/lib/python3.7/site-packages/ipykernel_launcher.py:8: DataConversionWarning: Data with input dtype int8, float64 were all converted to float64 by StandardScaler.\n",
      "  \n",
      "/Library/Frameworks/Python.framework/Versions/3.7/lib/python3.7/site-packages/ipykernel_launcher.py:18: DataConversionWarning: Data with input dtype int8, float64 were all converted to float64 by StandardScaler.\n",
      "/Library/Frameworks/Python.framework/Versions/3.7/lib/python3.7/site-packages/sklearn/model_selection/_split.py:2053: FutureWarning: You should specify a value for 'cv' instead of relying on the default value. The default value will change from 3 to 5 in version 0.22.\n",
      "  warnings.warn(CV_WARNING, FutureWarning)\n"
     ]
    },
    {
     "name": "stdout",
     "output_type": "stream",
     "text": [
      "Accuracy of logistic regression classifier on test set: 0.8611111111111112\n",
      "log loss: 0.39864047234839745\n"
     ]
    },
    {
     "name": "stderr",
     "output_type": "stream",
     "text": [
      "/Library/Frameworks/Python.framework/Versions/3.7/lib/python3.7/site-packages/ipykernel_launcher.py:19: DataConversionWarning: Data with input dtype int8, float64 were all converted to float64 by StandardScaler.\n",
      "/Library/Frameworks/Python.framework/Versions/3.7/lib/python3.7/site-packages/ipykernel_launcher.py:20: DataConversionWarning: Data with input dtype int8, float64 were all converted to float64 by StandardScaler.\n",
      "/Library/Frameworks/Python.framework/Versions/3.7/lib/python3.7/site-packages/ipykernel_launcher.py:21: DataConversionWarning: Data with input dtype int8, float64 were all converted to float64 by StandardScaler.\n"
     ]
    }
   ],
   "source": [
    "#WITH data Normalization\n",
    "logreg = LogisticRegression(multi_class = 'multinomial', solver='saga', penalty='l1', max_iter=10000, C=0.2)\n",
    "\n",
    "# fit the model with data\n",
    "logreg.fit(scl.transform(X_train),y_train)\n",
    "y_pred=logreg.predict(scl.transform((X_test)))\n",
    "y_pred_prob = logreg.predict_proba(scl.transform(X_test))\n",
    "print(f'Accuracy of logistic regression classifier on test set: {logreg.score(scl.transform(X_test), y_test)}')\n",
    "lloss = log_loss(y_test, y_pred_prob)\n",
    "print(f'log loss: {lloss}')\n",
    "\n",
    "\n",
    "\n",
    "#WITH data Normalization\n",
    "logregCV = LogisticRegressionCV(multi_class = 'multinomial', solver='saga', penalty='l1', max_iter=10000, Cs =100)\n",
    "\n",
    "# fit the model with data\n",
    "logregCV.fit(scl.transform(X_train),y_train)\n",
    "y_predCV=logregCV.predict(scl.transform((X_test)))\n",
    "y_pred_probCV = logregCV.predict_proba(scl.transform(X_test))\n",
    "print(f'Accuracy of logistic regression classifier on test set: {logregCV.score(scl.transform(X_test), y_test)}')\n",
    "llossCV = log_loss(y_test, y_pred_probCV)\n",
    "print(f'log loss: {llossCV}')"
   ]
  },
  {
   "cell_type": "code",
   "execution_count": 12,
   "metadata": {},
   "outputs": [
    {
     "name": "stdout",
     "output_type": "stream",
     "text": [
      "[[19  5]\n",
      " [ 1 11]]\n",
      "              precision    recall  f1-score   support\n",
      "\n",
      "           0       0.95      0.79      0.86        24\n",
      "           1       0.69      0.92      0.79        12\n",
      "\n",
      "   micro avg       0.83      0.83      0.83        36\n",
      "   macro avg       0.82      0.85      0.82        36\n",
      "weighted avg       0.86      0.83      0.84        36\n",
      "\n"
     ]
    },
    {
     "data": {
      "image/png": "[encoded data removed]",
      "text/plain": [
       "<Figure size 432x288 with 1 Axes>"
      ]
     },
     "metadata": {
      "needs_background": "light"
     },
     "output_type": "display_data"
    }
   ],
   "source": [
    "# The precision is the ratio tp / (tp + fp) where tp is the number of true positives and fp the number of false positives. The precision is intuitively the ability of the classifier to not label a sample as positive if it is negative.\n",
    "# The recall is the ratio tp / (tp + fn) where tp is the number of true positives and fn the number of false negatives. The recall is intuitively the ability of the classifier to find all the positive samples.\n",
    "# The F-beta score can be interpreted as a weighted harmonic mean of the precision and recall, where an F-beta score reaches its best value at 1 and worst score at 0.\n",
    "# The F-beta score weights the recall more than the precision by a factor of beta. beta = 1.0 means recall and precision are equally important.\n",
    "# The support is the number of occurrences of each class in y_test.\n",
    "\n",
    "confMatrix = confusion_matrix(y_test, y_pred)\n",
    "print(confMatrix)\n",
    "\n",
    "print(classification_report(y_test, y_pred))\n",
    "\n",
    "\n",
    "logit_roc_auc = roc_auc_score(y_test, y_pred)\n",
    "fpr, tpr, thresholds = roc_curve(y_test, y_pred_prob[:,1])\n",
    "plt.figure()\n",
    "plt.plot(fpr, tpr, label='Logistic Regression (area = %0.2f)' % logit_roc_auc)\n",
    "plt.plot([0, 1], [0, 1],'r--')\n",
    "plt.xlim([0.0, 1.0])\n",
    "plt.ylim([0.0, 1.05])\n",
    "plt.xlabel('False Positive Rate')\n",
    "plt.ylabel('True Positive Rate')\n",
    "plt.title('Receiver operating characteristic')\n",
    "plt.legend(loc=\"lower right\")\n",
    "plt.show()\n"
   ]
  },
  {
   "cell_type": "code",
   "execution_count": 14,
   "metadata": {},
   "outputs": [
    {
     "name": "stdout",
     "output_type": "stream",
     "text": [
      "[[18  6]\n",
      " [ 1 11]]\n",
      "              precision    recall  f1-score   support\n",
      "\n",
      "           0       0.95      0.75      0.84        24\n",
      "           1       0.65      0.92      0.76        12\n",
      "\n",
      "   micro avg       0.81      0.81      0.81        36\n",
      "   macro avg       0.80      0.83      0.80        36\n",
      "weighted avg       0.85      0.81      0.81        36\n",
      "\n"
     ]
    }
   ],
   "source": [
    "# Linear SVM without normalization\n",
    "svclassifier = SVC(kernel='linear')  \n",
    "svclassifier.fit(X_train, y_train)  \n",
    "y_pred = svclassifier.predict(X_test)  \n",
    "print(confusion_matrix(y_test,y_pred))  \n",
    "print(classification_report(y_test,y_pred))  "
   ]
  },
  {
   "cell_type": "code",
   "execution_count": 15,
   "metadata": {},
   "outputs": [
    {
     "name": "stdout",
     "output_type": "stream",
     "text": [
      "[[18  6]\n",
      " [ 1 11]]\n",
      "              precision    recall  f1-score   support\n",
      "\n",
      "           0       0.95      0.75      0.84        24\n",
      "           1       0.65      0.92      0.76        12\n",
      "\n",
      "   micro avg       0.81      0.81      0.81        36\n",
      "   macro avg       0.80      0.83      0.80        36\n",
      "weighted avg       0.85      0.81      0.81        36\n",
      "\n"
     ]
    },
    {
     "name": "stderr",
     "output_type": "stream",
     "text": [
      "C:\\Users\\nilay\\Anaconda3\\envs\\BE188\\lib\\site-packages\\ipykernel_launcher.py:3: DataConversionWarning: Data with input dtype int8, float64 were all converted to float64 by StandardScaler.\n",
      "  This is separate from the ipykernel package so we can avoid doing imports until\n",
      "C:\\Users\\nilay\\Anaconda3\\envs\\BE188\\lib\\site-packages\\ipykernel_launcher.py:4: DataConversionWarning: Data with input dtype int8, float64 were all converted to float64 by StandardScaler.\n",
      "  after removing the cwd from sys.path.\n"
     ]
    }
   ],
   "source": [
    "# Linear SVM with normalization\n",
    "svclassifier = SVC(kernel='linear')  \n",
    "svclassifier.fit(scl.transform(X_train), y_train)  \n",
    "y_pred = svclassifier.predict(scl.transform(X_test))  \n",
    "print(confusion_matrix(y_test,y_pred))  \n",
    "print(classification_report(y_test,y_pred)) "
   ]
  },
  {
   "cell_type": "code",
   "execution_count": null,
   "metadata": {
    "scrolled": false
   },
   "outputs": [
    {
     "name": "stdout",
     "output_type": "stream",
     "text": [
      "[ 2  3  4  5  6  7  8  9 10]\n"
     ]
    },
    {
     "name": "stderr",
     "output_type": "stream",
     "text": [
      "C:\\Users\\nilay\\Anaconda3\\envs\\BE188\\lib\\site-packages\\sklearn\\svm\\base.py:196: FutureWarning: The default value of gamma will change from 'auto' to 'scale' in version 0.22 to account better for unscaled features. Set gamma explicitly to 'auto' or 'scale' to avoid this warning.\n",
      "  \"avoid this warning.\", FutureWarning)\n"
     ]
    },
    {
     "name": "stdout",
     "output_type": "stream",
     "text": [
      "Polynomial Degree:  2\n",
      "[[17  7]\n",
      " [ 1 11]]\n",
      "              precision    recall  f1-score   support\n",
      "\n",
      "           0       0.94      0.71      0.81        24\n",
      "           1       0.61      0.92      0.73        12\n",
      "\n",
      "   micro avg       0.78      0.78      0.78        36\n",
      "   macro avg       0.78      0.81      0.77        36\n",
      "weighted avg       0.83      0.78      0.78        36\n",
      "\n"
     ]
    },
    {
     "name": "stderr",
     "output_type": "stream",
     "text": [
      "C:\\Users\\nilay\\Anaconda3\\envs\\BE188\\lib\\site-packages\\sklearn\\svm\\base.py:196: FutureWarning: The default value of gamma will change from 'auto' to 'scale' in version 0.22 to account better for unscaled features. Set gamma explicitly to 'auto' or 'scale' to avoid this warning.\n",
      "  \"avoid this warning.\", FutureWarning)\n"
     ]
    }
   ],
   "source": [
    "degrees =np.arange(2,11)\n",
    "print(degrees)\n",
    "\n",
    "for deg in degrees:\n",
    "    svclassifier = SVC(kernel='poly', degree = deg, gamma = 'scale')  \n",
    "    svclassifier.fit(X_train, y_train) \n",
    "    y_pred = svclassifier.predict(X_test)  \n",
    "    print(\"Polynomial Degree: \", deg)\n",
    "    print(confusion_matrix(y_test,y_pred))  \n",
    "    print(classification_report(y_test,y_pred))  "
   ]
  },
  {
   "cell_type": "code",
   "execution_count": 20,
   "metadata": {},
   "outputs": [
    {
     "name": "stdout",
     "output_type": "stream",
     "text": [
      "[[20  4]\n",
      " [ 1 11]]\n",
      "              precision    recall  f1-score   support\n",
      "\n",
      "           0       0.95      0.83      0.89        24\n",
      "           1       0.73      0.92      0.81        12\n",
      "\n",
      "   micro avg       0.86      0.86      0.86        36\n",
      "   macro avg       0.84      0.88      0.85        36\n",
      "weighted avg       0.88      0.86      0.86        36\n",
      "\n",
      "[[17  7]\n",
      " [ 2 10]]\n",
      "              precision    recall  f1-score   support\n",
      "\n",
      "           0       0.89      0.71      0.79        24\n",
      "           1       0.59      0.83      0.69        12\n",
      "\n",
      "   micro avg       0.75      0.75      0.75        36\n",
      "   macro avg       0.74      0.77      0.74        36\n",
      "weighted avg       0.79      0.75      0.76        36\n",
      "\n"
     ]
    }
   ],
   "source": [
    "svclassifier = SVC(kernel='poly', degree=3, gamma = 'auto', probability = True)  \n",
    "svclassifier.fit(X_train, y_train) \n",
    "y_pred = svclassifier.predict(X_test)  \n",
    "y_pred_prob = svclassifier.predict_proba(X_test)\n",
    "print(confusion_matrix(y_test,y_pred))  \n",
    "print(classification_report(y_test,y_pred)) \n",
    "\n",
    "svclassifier = SVC(kernel='poly', degree=3, gamma = 'scale', probability = True)  \n",
    "svclassifier.fit(X_train, y_train) \n",
    "y_pred = svclassifier.predict(X_test)  \n",
    "y_pred_prob = svclassifier.predict_proba(X_test)\n",
    "print(confusion_matrix(y_test,y_pred))  \n",
    "print(classification_report(y_test,y_pred)) "
   ]
  },
  {
   "cell_type": "code",
   "execution_count": 33,
   "metadata": {},
   "outputs": [
    {
     "name": "stdout",
     "output_type": "stream",
     "text": [
      "[[20  4]\n",
      " [ 1 11]]\n",
      "              precision    recall  f1-score   support\n",
      "\n",
      "           0       0.95      0.83      0.89        24\n",
      "           1       0.73      0.92      0.81        12\n",
      "\n",
      "   micro avg       0.86      0.86      0.86        36\n",
      "   macro avg       0.84      0.88      0.85        36\n",
      "weighted avg       0.88      0.86      0.86        36\n",
      "\n"
     ]
    }
   ],
   "source": [
    "svclassifier = SVC(kernel='poly', degree=3, gamma = 'auto')  \n",
    "svclassifier.fit(X_train, y_train) \n",
    "y_pred = svclassifier.predict(X_test)  \n",
    "print(confusion_matrix(y_test,y_pred))  \n",
    "print(classification_report(y_test,y_pred)) "
   ]
  },
  {
   "cell_type": "code",
   "execution_count": 14,
   "metadata": {},
   "outputs": [
    {
     "name": "stderr",
     "output_type": "stream",
     "text": [
      "/Library/Frameworks/Python.framework/Versions/3.7/lib/python3.7/site-packages/sklearn/model_selection/_split.py:2053: FutureWarning: You should specify a value for 'cv' instead of relying on the default value. The default value will change from 3 to 5 in version 0.22.\n",
      "  warnings.warn(CV_WARNING, FutureWarning)\n"
     ]
    },
    {
     "name": "stdout",
     "output_type": "stream",
     "text": [
      "[ True  True False  True  True  True False False  True  True False False\n",
      "  True]\n",
      "[1 1 3 1 1 1 2 6 1 1 4 5 1]\n",
      "8\n"
     ]
    }
   ],
   "source": [
    "svclassifier = SVC(kernel='linear')  \n",
    "rfe = RFECV(svclassifier)\n",
    "rfe = rfe.fit(X_train, y_train)\n",
    "print(rfe.support_)\n",
    "print(rfe.ranking_)\n",
    "print(rfe.n_features_)"
   ]
  },
  {
   "cell_type": "code",
   "execution_count": 15,
   "metadata": {},
   "outputs": [
    {
     "name": "stdout",
     "output_type": "stream",
     "text": [
      "[0.72272278 0.72272278 0.71592609 0.7299567  0.75079606 0.75817171\n",
      " 0.79956699 0.8206898  0.81331416 0.77134595 0.77134595 0.79232101\n",
      " 0.77872763]\n"
     ]
    }
   ],
   "source": [
    "print(rfe.grid_scores_)"
   ]
  },
  {
   "cell_type": "code",
   "execution_count": 16,
   "metadata": {},
   "outputs": [
    {
     "data": {
      "image/png": "[encoded data removed]",
      "text/plain": [
       "<Figure size 432x288 with 1 Axes>"
      ]
     },
     "metadata": {
      "needs_background": "light"
     },
     "output_type": "display_data"
    }
   ],
   "source": [
    "# Plot number of features VS. cross-validation scores\n",
    "plt.figure()\n",
    "plt.xlabel(\"Number of features selected\")\n",
    "plt.ylabel(\"Cross validation score (nb of correct classifications)\")\n",
    "plt.plot(range(1, len(rfe.grid_scores_) + 1), rfe.grid_scores_)\n",
    "plt.show()"
   ]
  },
  {
   "cell_type": "code",
   "execution_count": 64,
   "metadata": {},
   "outputs": [
    {
     "name": "stdout",
     "output_type": "stream",
     "text": [
      "slope_of_peak_exercise_st_segment\n",
      "thal\n",
      "chest_pain_type\n",
      "num_major_vessels\n",
      "fasting_blood_sugar_gt_120_mg_per_dl\n",
      "oldpeak_eq_st_depression\n",
      "sex\n",
      "exercise_induced_angina\n",
      "\n",
      "With LogReg Classififier:\n",
      "[0, 2, 5, 6, 7, 10, 11]\n"
     ]
    }
   ],
   "source": [
    "for n, i in enumerate(rfe.support_):\n",
    "    if i:\n",
    "        print(atributes[n+1])\n",
    "        \n",
    "logregmask = [0, 1, 0, 1, 1, 0, 1, 0, 1, 1, 0, 0, 1]\n",
    "\n",
    "print(f\"\\nWith LogReg Classififier:\")\n",
    "mainfeatures = []\n",
    "for n, i in enumerate(logregmask):\n",
    "    if not i:\n",
    "        mainfeatures.append(n)\n",
    "        continue;\n",
    "    if not rfe.support_[n]:\n",
    "        mainfeatures.append(n)\n",
    "            \n",
    "print(mainfeatures)\n",
    "prim = [1,3,4,8,9,12,13]"
   ]
  },
  {
   "cell_type": "code",
   "execution_count": 28,
   "metadata": {},
   "outputs": [
    {
     "data": {
      "text/html": [
       "<div>\n",
       "<style scoped>\n",
       "    .dataframe tbody tr th:only-of-type {\n",
       "        vertical-align: middle;\n",
       "    }\n",
       "\n",
       "    .dataframe tbody tr th {\n",
       "        vertical-align: top;\n",
       "    }\n",
       "\n",
       "    .dataframe thead th {\n",
       "        text-align: right;\n",
       "    }\n",
       "</style>\n",
       "<table border=\"1\" class=\"dataframe\">\n",
       "  <thead>\n",
       "    <tr style=\"text-align: right;\">\n",
       "      <th></th>\n",
       "      <th>1</th>\n",
       "      <th>3</th>\n",
       "      <th>4</th>\n",
       "      <th>8</th>\n",
       "      <th>9</th>\n",
       "      <th>12</th>\n",
       "      <th>13</th>\n",
       "    </tr>\n",
       "  </thead>\n",
       "  <tbody>\n",
       "    <tr>\n",
       "      <th>0z64un</th>\n",
       "      <td>1</td>\n",
       "      <td>2.0</td>\n",
       "      <td>0.0</td>\n",
       "      <td>0.0</td>\n",
       "      <td>1.0</td>\n",
       "      <td>0.0</td>\n",
       "      <td>0</td>\n",
       "    </tr>\n",
       "    <tr>\n",
       "      <th>ryoo3j</th>\n",
       "      <td>1</td>\n",
       "      <td>3.0</td>\n",
       "      <td>0.0</td>\n",
       "      <td>1.6</td>\n",
       "      <td>0.0</td>\n",
       "      <td>0.0</td>\n",
       "      <td>0</td>\n",
       "    </tr>\n",
       "    <tr>\n",
       "      <th>yt1s1x</th>\n",
       "      <td>1</td>\n",
       "      <td>4.0</td>\n",
       "      <td>3.0</td>\n",
       "      <td>0.0</td>\n",
       "      <td>1.0</td>\n",
       "      <td>1.0</td>\n",
       "      <td>1</td>\n",
       "    </tr>\n",
       "    <tr>\n",
       "      <th>l2xjde</th>\n",
       "      <td>2</td>\n",
       "      <td>4.0</td>\n",
       "      <td>0.0</td>\n",
       "      <td>0.0</td>\n",
       "      <td>1.0</td>\n",
       "      <td>0.0</td>\n",
       "      <td>1</td>\n",
       "    </tr>\n",
       "    <tr>\n",
       "      <th>oyt4ek</th>\n",
       "      <td>2</td>\n",
       "      <td>1.0</td>\n",
       "      <td>0.0</td>\n",
       "      <td>4.2</td>\n",
       "      <td>1.0</td>\n",
       "      <td>0.0</td>\n",
       "      <td>0</td>\n",
       "    </tr>\n",
       "  </tbody>\n",
       "</table>\n",
       "</div>"
      ],
      "text/plain": [
       "        1    3    4    8    9    12  13\n",
       "0z64un   1  2.0  0.0  0.0  1.0  0.0   0\n",
       "ryoo3j   1  3.0  0.0  1.6  0.0  0.0   0\n",
       "yt1s1x   1  4.0  3.0  0.0  1.0  1.0   1\n",
       "l2xjde   2  4.0  0.0  0.0  1.0  0.0   1\n",
       "oyt4ek   2  1.0  0.0  4.2  1.0  0.0   0"
      ]
     },
     "execution_count": 28,
     "metadata": {},
     "output_type": "execute_result"
    }
   ],
   "source": [
    "data6 = copy.deepcopy(data)\n",
    "data6.drop(axis=1, labels=mainfeatures , inplace=True)\n",
    "othfeat = [0,5,6]\n",
    "data6.head()"
   ]
  },
  {
   "cell_type": "code",
   "execution_count": 67,
   "metadata": {},
   "outputs": [],
   "source": [
    "datan = [copy.deepcopy(data),copy.deepcopy(data),copy.deepcopy(data),copy.deepcopy(data),copy.deepcopy(data),copy.deepcopy(data),copy.deepcopy(data)]\n",
    "templist = [0,5,6,[0,5],[0,6],[5,6],[0,5,6]]\n",
    "\n",
    "for n,itm in enumerate(templist):\n",
    "    if (n == 0):\n",
    "        mask = np.in1d(fet, [0]+prim, invert=True)\n",
    "        datan[n].drop(axis=1, labels=fet[mask] , inplace=True)\n",
    "    elif n == 1:\n",
    "        mask = np.in1d(fet, [5]+prim, invert=True)\n",
    "\n",
    "        datan[n].drop(axis=1, labels=fet[mask] , inplace=True)\n",
    "    elif n == 2:\n",
    "        mask = np.in1d(fet, [6]+prim, invert=True)\n",
    "\n",
    "        datan[n].drop(axis=1, labels=fet[mask] , inplace=True)\n",
    "    elif n == 3:\n",
    "        mask = np.in1d(fet, [0,5]+prim, invert=True)\n",
    "\n",
    "        datan[n].drop(axis=1, labels=fet[mask] , inplace=True)\n",
    "    elif n == 4:\n",
    "        mask = np.in1d(fet, [0,6]+prim, invert=True)\n",
    "\n",
    "        datan[n].drop(axis=1, labels=fet[mask] , inplace=True)\n",
    "    elif n == 5:\n",
    "        mask = np.in1d(fet, [5,6]+prim, invert=True)\n",
    "\n",
    "        datan[n].drop(axis=1, labels=fet[mask] , inplace=True)\n",
    "    elif n == 6:\n",
    "        mask = np.in1d(fet, [0,5,6]+prim, invert=True)\n",
    "\n",
    "        datan[n].drop(axis=1, labels=fet[mask] , inplace=True)\n",
    "        \n",
    "        \n",
    "    #s = set(mainfeatures)\n",
    "    #for i in [itm]:\n",
    "    #    s.remove(i)\n",
    "    #print(s)\n",
    "    #mask = np.in1d(fet, s, invert=True)\n",
    "    #print(fet[mask])\n",
    "    #datan[n] = copy.deepcopy(data)\n",
    "    #datan[n].drop(axis=1, labels=fet[mask] , inplace=True)\n",
    "    \n"
   ]
  },
  {
   "cell_type": "code",
   "execution_count": null,
   "metadata": {},
   "outputs": [],
   "source": []
  }
 ],
 "metadata": {
  "kernelspec": {
   "display_name": "Python 3",
   "language": "python",
   "name": "python3"
  },
  "language_info": {
   "codemirror_mode": {
    "name": "ipython",
    "version": 3
   },
   "file_extension": ".py",
   "mimetype": "text/x-python",
   "name": "python",
   "nbconvert_exporter": "python",
   "pygments_lexer": "ipython3",
   "version": "3.7.0"
  }
 },
 "nbformat": 4,
 "nbformat_minor": 2
}
