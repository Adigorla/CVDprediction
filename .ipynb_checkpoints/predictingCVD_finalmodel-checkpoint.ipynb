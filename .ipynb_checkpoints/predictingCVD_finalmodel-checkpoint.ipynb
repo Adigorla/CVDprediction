{
 "cells": [
  {
   "cell_type": "markdown",
   "metadata": {},
   "source": [
    "# Predicting CVD: BE 188 Final Project"
   ]
  },
  {
   "cell_type": "code",
   "execution_count": 1,
   "metadata": {},
   "outputs": [],
   "source": [
    "%matplotlib inline\n",
    "\n",
    "import matplotlib.pyplot as plt\n",
    "import matplotlib.image as mpimg\n",
    "import seaborn as sns; sns.set()\n",
    "import pandas as pd\n",
    "import numpy as np\n",
    "import copy\n",
    "\n",
    "from sklearn.utils import resample\n",
    "from sklearn.preprocessing import scale, StandardScaler\n",
    "from sklearn.model_selection import train_test_split, StratifiedKFold\n",
    "\n",
    "from sklearn.pipeline import Pipeline\n",
    "from sklearn.model_selection import GridSearchCV\n",
    "from sklearn.feature_selection import RFECV\n",
    "\n",
    "from sklearn.linear_model import LogisticRegression\n",
    "from sklearn.svm import SVC\n",
    "\n",
    "\n",
    "from sklearn.metrics import r2_score\n",
    "from sklearn.metrics import log_loss, confusion_matrix, classification_report, roc_curve, roc_auc_score\n",
    "\n",
    "from sklearn.exceptions import DataConversionWarning\n",
    "import warnings\n",
    "warnings.filterwarnings(action='ignore', category = DataConversionWarning)"
   ]
  },
  {
   "cell_type": "markdown",
   "metadata": {},
   "source": [
    "#### Import and Arrange Data"
   ]
  },
  {
   "cell_type": "code",
   "execution_count": 2,
   "metadata": {},
   "outputs": [],
   "source": [
    "train_values = np.loadtxt(\"train_values.csv\", delimiter=\",\", dtype=object)\n",
    "train_labels = np.loadtxt(\"train_labels.csv\", delimiter=\",\", dtype=object)\n",
    "\n",
    "d = np.empty(15, dtype=object)\n",
    "\n",
    "d[0],d[1],d[2],d[3],d[4],d[5],d[6],d[7],d[8],d[9],d[10],d[11],d[12],d[13] = np.hsplit(train_values, 14)\n",
    "d[0],d[14] = np.hsplit(train_labels, 2)\n",
    "\n",
    "atributes = {}\n",
    "\n",
    "for n,obj in enumerate(d):\n",
    "    atributes[n] = obj[0][0]\n",
    "    d[n] = np.squeeze(d[n])[1:]\n",
    "\n",
    "#NOTE: the columns lable in pd.df is numeric. For a given column N, its property corresponds to atributes[N+1]\n",
    "data = pd.DataFrame(data=d[1],index=d[0])\n",
    "for n in range(15):\n",
    "    if n < 2:\n",
    "        continue\n",
    "    data[n-1] = d[n]"
   ]
  },
  {
   "cell_type": "markdown",
   "metadata": {},
   "source": [
    "#### The 14 features are described below:\n",
    "\n",
    "- slope_of_peak_exercise_st_segment (type: int): the slope of the peak exercise ST segment, an electrocardiography read out indicating quality of blood flow to the heart\n",
    "- thal (type: categorical): results of thallium stress test measuring blood flow to the heart, with possible values normal, fixed_defect, reversible_defect\n",
    "- resting_blood_pressure (type: int): resting blood pressure\n",
    "- chest_pain_type (type: int): chest pain type (4 values)\n",
    "- num_major_vessels (type: int): number of major vessels (0-3) colored by flourosopy\n",
    "- fasting_blood_sugar_gt_120_mg_per_dl (type: binary): fasting blood sugar > 120 mg/dl\n",
    "- resting_ekg_results (type: int): resting electrocardiographic results (values 0,1,2)\n",
    "- serum_cholesterol_mg_per_dl (type: int): serum cholestoral in mg/dl\n",
    "- oldpeak_eq_st_depression (type: float): oldpeak = ST depression induced by exercise relative to rest, a measure of abnormality in electrocardiograms\n",
    "- sex (type: binary): 0: female, 1: male\n",
    "- age (type: int): age in years\n",
    "- max_heart_rate_achieved (type: int): maximum heart rate achieved (beats per minute)\n",
    "- exercise_induced_angina (type: binary): exercise-induced chest pain (0: False, 1: True)\n",
    "- heart_disease_present (type: binary): 0: heart disease not present, 1: heart disease present \n",
    "\n",
    "NOTE: The index in data corresponds to patient ID"
   ]
  },
  {
   "cell_type": "code",
   "execution_count": 3,
   "metadata": {},
   "outputs": [
    {
     "name": "stdout",
     "output_type": "stream",
     "text": [
      "{0: 'patient_id', 1: 'slope_of_peak_exercise_st_segment', 2: 'thal', 3: 'resting_blood_pressure', 4: 'chest_pain_type', 5: 'num_major_vessels', 6: 'fasting_blood_sugar_gt_120_mg_per_dl', 7: 'resting_ekg_results', 8: 'serum_cholesterol_mg_per_dl', 9: 'oldpeak_eq_st_depression', 10: 'sex', 11: 'age', 12: 'max_heart_rate_achieved', 13: 'exercise_induced_angina', 14: 'heart_disease_present'}\n"
     ]
    },
    {
     "data": {
      "text/html": [
       "<div>\n",
       "<style scoped>\n",
       "    .dataframe tbody tr th:only-of-type {\n",
       "        vertical-align: middle;\n",
       "    }\n",
       "\n",
       "    .dataframe tbody tr th {\n",
       "        vertical-align: top;\n",
       "    }\n",
       "\n",
       "    .dataframe thead th {\n",
       "        text-align: right;\n",
       "    }\n",
       "</style>\n",
       "<table border=\"1\" class=\"dataframe\">\n",
       "  <thead>\n",
       "    <tr style=\"text-align: right;\">\n",
       "      <th></th>\n",
       "      <th>0</th>\n",
       "      <th>1</th>\n",
       "      <th>2</th>\n",
       "      <th>3</th>\n",
       "      <th>4</th>\n",
       "      <th>5</th>\n",
       "      <th>6</th>\n",
       "      <th>7</th>\n",
       "      <th>8</th>\n",
       "      <th>9</th>\n",
       "      <th>10</th>\n",
       "      <th>11</th>\n",
       "      <th>12</th>\n",
       "      <th>13</th>\n",
       "    </tr>\n",
       "  </thead>\n",
       "  <tbody>\n",
       "    <tr>\n",
       "      <th>0z64un</th>\n",
       "      <td>1</td>\n",
       "      <td>normal</td>\n",
       "      <td>128</td>\n",
       "      <td>2</td>\n",
       "      <td>0</td>\n",
       "      <td>0</td>\n",
       "      <td>2</td>\n",
       "      <td>308</td>\n",
       "      <td>0.0</td>\n",
       "      <td>1</td>\n",
       "      <td>45</td>\n",
       "      <td>170</td>\n",
       "      <td>0</td>\n",
       "      <td>0</td>\n",
       "    </tr>\n",
       "    <tr>\n",
       "      <th>ryoo3j</th>\n",
       "      <td>2</td>\n",
       "      <td>normal</td>\n",
       "      <td>110</td>\n",
       "      <td>3</td>\n",
       "      <td>0</td>\n",
       "      <td>0</td>\n",
       "      <td>0</td>\n",
       "      <td>214</td>\n",
       "      <td>1.6</td>\n",
       "      <td>0</td>\n",
       "      <td>54</td>\n",
       "      <td>158</td>\n",
       "      <td>0</td>\n",
       "      <td>0</td>\n",
       "    </tr>\n",
       "    <tr>\n",
       "      <th>yt1s1x</th>\n",
       "      <td>1</td>\n",
       "      <td>normal</td>\n",
       "      <td>125</td>\n",
       "      <td>4</td>\n",
       "      <td>3</td>\n",
       "      <td>0</td>\n",
       "      <td>2</td>\n",
       "      <td>304</td>\n",
       "      <td>0.0</td>\n",
       "      <td>1</td>\n",
       "      <td>77</td>\n",
       "      <td>162</td>\n",
       "      <td>1</td>\n",
       "      <td>1</td>\n",
       "    </tr>\n",
       "    <tr>\n",
       "      <th>l2xjde</th>\n",
       "      <td>1</td>\n",
       "      <td>reversible_defect</td>\n",
       "      <td>152</td>\n",
       "      <td>4</td>\n",
       "      <td>0</td>\n",
       "      <td>0</td>\n",
       "      <td>0</td>\n",
       "      <td>223</td>\n",
       "      <td>0.0</td>\n",
       "      <td>1</td>\n",
       "      <td>40</td>\n",
       "      <td>181</td>\n",
       "      <td>0</td>\n",
       "      <td>1</td>\n",
       "    </tr>\n",
       "    <tr>\n",
       "      <th>oyt4ek</th>\n",
       "      <td>3</td>\n",
       "      <td>reversible_defect</td>\n",
       "      <td>178</td>\n",
       "      <td>1</td>\n",
       "      <td>0</td>\n",
       "      <td>0</td>\n",
       "      <td>2</td>\n",
       "      <td>270</td>\n",
       "      <td>4.2</td>\n",
       "      <td>1</td>\n",
       "      <td>59</td>\n",
       "      <td>145</td>\n",
       "      <td>0</td>\n",
       "      <td>0</td>\n",
       "    </tr>\n",
       "  </tbody>\n",
       "</table>\n",
       "</div>"
      ],
      "text/plain": [
       "       0                  1    2  3  4  5  6    7    8  9   10   11 12 13\n",
       "0z64un  1             normal  128  2  0  0  2  308  0.0  1  45  170  0  0\n",
       "ryoo3j  2             normal  110  3  0  0  0  214  1.6  0  54  158  0  0\n",
       "yt1s1x  1             normal  125  4  3  0  2  304  0.0  1  77  162  1  1\n",
       "l2xjde  1  reversible_defect  152  4  0  0  0  223  0.0  1  40  181  0  1\n",
       "oyt4ek  3  reversible_defect  178  1  0  0  2  270  4.2  1  59  145  0  0"
      ]
     },
     "execution_count": 3,
     "metadata": {},
     "output_type": "execute_result"
    }
   ],
   "source": [
    "print(atributes)\n",
    "data.head()"
   ]
  },
  {
   "cell_type": "markdown",
   "metadata": {},
   "source": [
    "## Data Exploration"
   ]
  },
  {
   "cell_type": "code",
   "execution_count": 4,
   "metadata": {},
   "outputs": [
    {
     "data": {
      "text/plain": [
       "0    100\n",
       "1     80\n",
       "Name: 13, dtype: int64"
      ]
     },
     "execution_count": 4,
     "metadata": {},
     "output_type": "execute_result"
    }
   ],
   "source": [
    "# Counts for heart_disease_present in training data\n",
    "data[13].value_counts()"
   ]
  },
  {
   "cell_type": "code",
   "execution_count": 5,
   "metadata": {},
   "outputs": [
    {
     "data": {
      "text/html": [
       "<div>\n",
       "<style scoped>\n",
       "    .dataframe tbody tr th:only-of-type {\n",
       "        vertical-align: middle;\n",
       "    }\n",
       "\n",
       "    .dataframe tbody tr th {\n",
       "        vertical-align: top;\n",
       "    }\n",
       "\n",
       "    .dataframe thead th {\n",
       "        text-align: right;\n",
       "    }\n",
       "</style>\n",
       "<table border=\"1\" class=\"dataframe\">\n",
       "  <thead>\n",
       "    <tr style=\"text-align: right;\">\n",
       "      <th></th>\n",
       "      <th>0</th>\n",
       "      <th>2</th>\n",
       "      <th>3</th>\n",
       "      <th>4</th>\n",
       "      <th>5</th>\n",
       "      <th>6</th>\n",
       "      <th>7</th>\n",
       "      <th>8</th>\n",
       "      <th>9</th>\n",
       "      <th>10</th>\n",
       "      <th>11</th>\n",
       "      <th>12</th>\n",
       "    </tr>\n",
       "    <tr>\n",
       "      <th>13</th>\n",
       "      <th></th>\n",
       "      <th></th>\n",
       "      <th></th>\n",
       "      <th></th>\n",
       "      <th></th>\n",
       "      <th></th>\n",
       "      <th></th>\n",
       "      <th></th>\n",
       "      <th></th>\n",
       "      <th></th>\n",
       "      <th></th>\n",
       "      <th></th>\n",
       "    </tr>\n",
       "  </thead>\n",
       "  <tbody>\n",
       "    <tr>\n",
       "      <th>0</th>\n",
       "      <td>1.3600</td>\n",
       "      <td>130.12</td>\n",
       "      <td>2.8100</td>\n",
       "      <td>0.33</td>\n",
       "      <td>0.1600</td>\n",
       "      <td>0.9200</td>\n",
       "      <td>245.46</td>\n",
       "      <td>0.62700</td>\n",
       "      <td>0.5500</td>\n",
       "      <td>53.66</td>\n",
       "      <td>156.87</td>\n",
       "      <td>0.13</td>\n",
       "    </tr>\n",
       "    <tr>\n",
       "      <th>1</th>\n",
       "      <td>1.7875</td>\n",
       "      <td>132.80</td>\n",
       "      <td>3.5875</td>\n",
       "      <td>1.15</td>\n",
       "      <td>0.1625</td>\n",
       "      <td>1.2125</td>\n",
       "      <td>253.90</td>\n",
       "      <td>1.48875</td>\n",
       "      <td>0.8625</td>\n",
       "      <td>56.25</td>\n",
       "      <td>140.25</td>\n",
       "      <td>0.55</td>\n",
       "    </tr>\n",
       "  </tbody>\n",
       "</table>\n",
       "</div>"
      ],
      "text/plain": [
       "        0       2       3     4       5       6       7        8       9   \\\n",
       "13                                                                          \n",
       "0   1.3600  130.12  2.8100  0.33  0.1600  0.9200  245.46  0.62700  0.5500   \n",
       "1   1.7875  132.80  3.5875  1.15  0.1625  1.2125  253.90  1.48875  0.8625   \n",
       "\n",
       "       10      11    12  \n",
       "13                       \n",
       "0   53.66  156.87  0.13  \n",
       "1   56.25  140.25  0.55  "
      ]
     },
     "execution_count": 5,
     "metadata": {},
     "output_type": "execute_result"
    }
   ],
   "source": [
    "# Average for each attribute whether or not heart_disease_present\n",
    "data = (data.astype({0: 'float64', 1: 'category', 2: 'float64', 3: 'float64', 4: 'float64', 5: 'float64', 6: 'float64', 7: 'float64',\n",
    "                    8: 'float64', 9: 'float64', 10: 'float64', 11: 'float64', 12: 'float64', 13: 'int64'}))\n",
    "data.groupby(13).mean()"
   ]
  },
  {
   "cell_type": "code",
   "execution_count": 6,
   "metadata": {},
   "outputs": [
    {
     "data": {
      "text/html": [
       "<div>\n",
       "<style scoped>\n",
       "    .dataframe tbody tr th:only-of-type {\n",
       "        vertical-align: middle;\n",
       "    }\n",
       "\n",
       "    .dataframe tbody tr th {\n",
       "        vertical-align: top;\n",
       "    }\n",
       "\n",
       "    .dataframe thead th {\n",
       "        text-align: right;\n",
       "    }\n",
       "</style>\n",
       "<table border=\"1\" class=\"dataframe\">\n",
       "  <thead>\n",
       "    <tr style=\"text-align: right;\">\n",
       "      <th></th>\n",
       "      <th>0</th>\n",
       "      <th>2</th>\n",
       "      <th>3</th>\n",
       "      <th>4</th>\n",
       "      <th>5</th>\n",
       "      <th>6</th>\n",
       "      <th>7</th>\n",
       "      <th>8</th>\n",
       "      <th>9</th>\n",
       "      <th>10</th>\n",
       "      <th>11</th>\n",
       "      <th>12</th>\n",
       "      <th>13</th>\n",
       "    </tr>\n",
       "    <tr>\n",
       "      <th>1</th>\n",
       "      <th></th>\n",
       "      <th></th>\n",
       "      <th></th>\n",
       "      <th></th>\n",
       "      <th></th>\n",
       "      <th></th>\n",
       "      <th></th>\n",
       "      <th></th>\n",
       "      <th></th>\n",
       "      <th></th>\n",
       "      <th></th>\n",
       "      <th></th>\n",
       "      <th></th>\n",
       "    </tr>\n",
       "  </thead>\n",
       "  <tbody>\n",
       "    <tr>\n",
       "      <th>fixed_defect</th>\n",
       "      <td>2.000000</td>\n",
       "      <td>141.375000</td>\n",
       "      <td>3.125000</td>\n",
       "      <td>0.625000</td>\n",
       "      <td>0.375000</td>\n",
       "      <td>1.250000</td>\n",
       "      <td>227.250000</td>\n",
       "      <td>1.300000</td>\n",
       "      <td>1.000000</td>\n",
       "      <td>57.875000</td>\n",
       "      <td>136.000000</td>\n",
       "      <td>0.250000</td>\n",
       "      <td>0.500000</td>\n",
       "    </tr>\n",
       "    <tr>\n",
       "      <th>normal</th>\n",
       "      <td>1.377551</td>\n",
       "      <td>129.775510</td>\n",
       "      <td>2.897959</td>\n",
       "      <td>0.530612</td>\n",
       "      <td>0.153061</td>\n",
       "      <td>1.071429</td>\n",
       "      <td>250.255102</td>\n",
       "      <td>0.669388</td>\n",
       "      <td>0.510204</td>\n",
       "      <td>54.387755</td>\n",
       "      <td>154.938776</td>\n",
       "      <td>0.153061</td>\n",
       "      <td>0.204082</td>\n",
       "    </tr>\n",
       "    <tr>\n",
       "      <th>reversible_defect</th>\n",
       "      <td>1.729730</td>\n",
       "      <td>132.256757</td>\n",
       "      <td>3.500000</td>\n",
       "      <td>0.918919</td>\n",
       "      <td>0.148649</td>\n",
       "      <td>1.000000</td>\n",
       "      <td>250.202703</td>\n",
       "      <td>1.429730</td>\n",
       "      <td>0.891892</td>\n",
       "      <td>55.040541</td>\n",
       "      <td>143.716216</td>\n",
       "      <td>0.540541</td>\n",
       "      <td>0.756757</td>\n",
       "    </tr>\n",
       "  </tbody>\n",
       "</table>\n",
       "</div>"
      ],
      "text/plain": [
       "                         0           2         3         4         5   \\\n",
       "1                                                                       \n",
       "fixed_defect       2.000000  141.375000  3.125000  0.625000  0.375000   \n",
       "normal             1.377551  129.775510  2.897959  0.530612  0.153061   \n",
       "reversible_defect  1.729730  132.256757  3.500000  0.918919  0.148649   \n",
       "\n",
       "                         6           7         8         9          10  \\\n",
       "1                                                                        \n",
       "fixed_defect       1.250000  227.250000  1.300000  1.000000  57.875000   \n",
       "normal             1.071429  250.255102  0.669388  0.510204  54.387755   \n",
       "reversible_defect  1.000000  250.202703  1.429730  0.891892  55.040541   \n",
       "\n",
       "                           11        12        13  \n",
       "1                                                  \n",
       "fixed_defect       136.000000  0.250000  0.500000  \n",
       "normal             154.938776  0.153061  0.204082  \n",
       "reversible_defect  143.716216  0.540541  0.756757  "
      ]
     },
     "execution_count": 6,
     "metadata": {},
     "output_type": "execute_result"
    }
   ],
   "source": [
    "# Averages as separated by thalium stress test\n",
    "data.groupby(1).mean()"
   ]
  },
  {
   "cell_type": "markdown",
   "metadata": {},
   "source": [
    "#### Encode Categorical Data with Numerical Labels"
   ]
  },
  {
   "cell_type": "code",
   "execution_count": 7,
   "metadata": {},
   "outputs": [
    {
     "name": "stdout",
     "output_type": "stream",
     "text": [
      "         0   1      2    3    4    5    6      7    8    9     10     11   12  \\\n",
      "0z64un  1.0   1  128.0  2.0  0.0  0.0  2.0  308.0  0.0  1.0  45.0  170.0  0.0   \n",
      "ryoo3j  2.0   1  110.0  3.0  0.0  0.0  0.0  214.0  1.6  0.0  54.0  158.0  0.0   \n",
      "yt1s1x  1.0   1  125.0  4.0  3.0  0.0  2.0  304.0  0.0  1.0  77.0  162.0  1.0   \n",
      "l2xjde  1.0   2  152.0  4.0  0.0  0.0  0.0  223.0  0.0  1.0  40.0  181.0  0.0   \n",
      "oyt4ek  3.0   2  178.0  1.0  0.0  0.0  2.0  270.0  4.2  1.0  59.0  145.0  0.0   \n",
      "\n",
      "        13  \n",
      "0z64un   0  \n",
      "ryoo3j   0  \n",
      "yt1s1x   1  \n",
      "l2xjde   1  \n",
      "oyt4ek   0  \n"
     ]
    }
   ],
   "source": [
    "category_col = data.select_dtypes(['category']).columns \n",
    "data[category_col] = data[category_col].apply(lambda x: x.cat.codes)\n",
    "print(data.head())"
   ]
  },
  {
   "cell_type": "code",
   "execution_count": 8,
   "metadata": {},
   "outputs": [
    {
     "data": {
      "text/html": [
       "<div>\n",
       "<style scoped>\n",
       "    .dataframe tbody tr th:only-of-type {\n",
       "        vertical-align: middle;\n",
       "    }\n",
       "\n",
       "    .dataframe tbody tr th {\n",
       "        vertical-align: top;\n",
       "    }\n",
       "\n",
       "    .dataframe thead th {\n",
       "        text-align: right;\n",
       "    }\n",
       "</style>\n",
       "<table border=\"1\" class=\"dataframe\">\n",
       "  <thead>\n",
       "    <tr style=\"text-align: right;\">\n",
       "      <th></th>\n",
       "      <th>0</th>\n",
       "      <th>1</th>\n",
       "      <th>2</th>\n",
       "      <th>3</th>\n",
       "      <th>4</th>\n",
       "      <th>5</th>\n",
       "      <th>6</th>\n",
       "      <th>7</th>\n",
       "      <th>8</th>\n",
       "      <th>9</th>\n",
       "      <th>10</th>\n",
       "      <th>11</th>\n",
       "      <th>12</th>\n",
       "    </tr>\n",
       "    <tr>\n",
       "      <th>13</th>\n",
       "      <th></th>\n",
       "      <th></th>\n",
       "      <th></th>\n",
       "      <th></th>\n",
       "      <th></th>\n",
       "      <th></th>\n",
       "      <th></th>\n",
       "      <th></th>\n",
       "      <th></th>\n",
       "      <th></th>\n",
       "      <th></th>\n",
       "      <th></th>\n",
       "      <th></th>\n",
       "    </tr>\n",
       "  </thead>\n",
       "  <tbody>\n",
       "    <tr>\n",
       "      <th>0</th>\n",
       "      <td>1.3600</td>\n",
       "      <td>1.14</td>\n",
       "      <td>130.12</td>\n",
       "      <td>2.8100</td>\n",
       "      <td>0.33</td>\n",
       "      <td>0.1600</td>\n",
       "      <td>0.9200</td>\n",
       "      <td>245.46</td>\n",
       "      <td>0.62700</td>\n",
       "      <td>0.5500</td>\n",
       "      <td>53.66</td>\n",
       "      <td>156.87</td>\n",
       "      <td>0.13</td>\n",
       "    </tr>\n",
       "    <tr>\n",
       "      <th>1</th>\n",
       "      <td>1.7875</td>\n",
       "      <td>1.65</td>\n",
       "      <td>132.80</td>\n",
       "      <td>3.5875</td>\n",
       "      <td>1.15</td>\n",
       "      <td>0.1625</td>\n",
       "      <td>1.2125</td>\n",
       "      <td>253.90</td>\n",
       "      <td>1.48875</td>\n",
       "      <td>0.8625</td>\n",
       "      <td>56.25</td>\n",
       "      <td>140.25</td>\n",
       "      <td>0.55</td>\n",
       "    </tr>\n",
       "  </tbody>\n",
       "</table>\n",
       "</div>"
      ],
      "text/plain": [
       "        0     1       2       3     4       5       6       7        8   \\\n",
       "13                                                                        \n",
       "0   1.3600  1.14  130.12  2.8100  0.33  0.1600  0.9200  245.46  0.62700   \n",
       "1   1.7875  1.65  132.80  3.5875  1.15  0.1625  1.2125  253.90  1.48875   \n",
       "\n",
       "        9      10      11    12  \n",
       "13                               \n",
       "0   0.5500  53.66  156.87  0.13  \n",
       "1   0.8625  56.25  140.25  0.55  "
      ]
     },
     "execution_count": 8,
     "metadata": {},
     "output_type": "execute_result"
    }
   ],
   "source": [
    "#created a dict to refernce states\n",
    "thal = {0:'fixed_defect', 1:'normal', 2:'reversible_defect'}\n",
    "data.groupby(13).mean()"
   ]
  },
  {
   "cell_type": "code",
   "execution_count": 9,
   "metadata": {},
   "outputs": [
    {
     "name": "stdout",
     "output_type": "stream",
     "text": [
      "         0   1      2    3    4    5    6      7    8    9     10     11   12\n",
      "0z64un  1.0   1  128.0  2.0  0.0  0.0  2.0  308.0  0.0  1.0  45.0  170.0  0.0\n",
      "ryoo3j  2.0   1  110.0  3.0  0.0  0.0  0.0  214.0  1.6  0.0  54.0  158.0  0.0\n",
      "yt1s1x  1.0   1  125.0  4.0  3.0  0.0  2.0  304.0  0.0  1.0  77.0  162.0  1.0\n",
      "l2xjde  1.0   2  152.0  4.0  0.0  0.0  0.0  223.0  0.0  1.0  40.0  181.0  0.0\n",
      "oyt4ek  3.0   2  178.0  1.0  0.0  0.0  2.0  270.0  4.2  1.0  59.0  145.0  0.0\n"
     ]
    },
    {
     "data": {
      "text/plain": [
       "(180, 13)"
      ]
     },
     "execution_count": 9,
     "metadata": {},
     "output_type": "execute_result"
    }
   ],
   "source": [
    "X = data.loc[:, data.columns != 13]\n",
    "y = np.array(data.loc[:, data.columns == 13]).reshape(180,)\n",
    "print(X.head())\n",
    "X.shape"
   ]
  },
  {
   "cell_type": "markdown",
   "metadata": {},
   "source": [
    "## Intial Models"
   ]
  },
  {
   "cell_type": "markdown",
   "metadata": {},
   "source": [
    "#### Logisitical Regression Classifier"
   ]
  },
  {
   "cell_type": "code",
   "execution_count": 10,
   "metadata": {},
   "outputs": [
    {
     "name": "stdout",
     "output_type": "stream",
     "text": [
      "Accuracy of logistic regression classifier on test set: 0.8333333333333334\n",
      "log loss: 0.4260083754982158\n",
      "[[18  6]\n",
      " [ 0 12]]\n",
      "              precision    recall  f1-score   support\n",
      "\n",
      "           0       1.00      0.75      0.86        24\n",
      "           1       0.67      1.00      0.80        12\n",
      "\n",
      "   micro avg       0.83      0.83      0.83        36\n",
      "   macro avg       0.83      0.88      0.83        36\n",
      "weighted avg       0.89      0.83      0.84        36\n",
      "\n"
     ]
    }
   ],
   "source": [
    "X_train, X_test, y_train, y_test = train_test_split(X, y, test_size=0.2, random_state=0)\n",
    "logreg = LogisticRegression(multi_class = 'multinomial', solver='newton-cg', penalty='l2', max_iter=10000, C=1)\n",
    "\n",
    "# Fit the model with taining data\n",
    "logreg.fit(X_train,y_train) \n",
    "y_pred = logreg.predict(X_test)\n",
    "y_pred_prob = logreg.predict_proba(X_test)\n",
    "print(f'Accuracy of logistic regression classifier on test set: {logreg.score(X_test, y_test)}')\n",
    "lloss = log_loss(y_test, y_pred_prob)\n",
    "print(f'log loss: {lloss}')\n",
    "print(confusion_matrix(y_test, y_pred))\n",
    "print(classification_report(y_test, y_pred))"
   ]
  },
  {
   "cell_type": "markdown",
   "metadata": {},
   "source": [
    "#### SVM Classifiers"
   ]
  },
  {
   "cell_type": "code",
   "execution_count": 11,
   "metadata": {},
   "outputs": [
    {
     "name": "stdout",
     "output_type": "stream",
     "text": [
      "[[18  6]\n",
      " [ 1 11]]\n",
      "              precision    recall  f1-score   support\n",
      "\n",
      "           0       0.95      0.75      0.84        24\n",
      "           1       0.65      0.92      0.76        12\n",
      "\n",
      "   micro avg       0.81      0.81      0.81        36\n",
      "   macro avg       0.80      0.83      0.80        36\n",
      "weighted avg       0.85      0.81      0.81        36\n",
      "\n"
     ]
    }
   ],
   "source": [
    "# Linear SVC\n",
    "svclassifier = SVC(kernel='linear')  \n",
    "svclassifier.fit(X_train, y_train)  \n",
    "y_pred = svclassifier.predict(X_test)  \n",
    "print(confusion_matrix(y_test,y_pred))  \n",
    "print(classification_report(y_test,y_pred))  "
   ]
  },
  {
   "cell_type": "code",
   "execution_count": 13,
   "metadata": {},
   "outputs": [
    {
     "name": "stdout",
     "output_type": "stream",
     "text": [
      "[[19  5]\n",
      " [ 1 11]]\n",
      "              precision    recall  f1-score   support\n",
      "\n",
      "           0       0.95      0.79      0.86        24\n",
      "           1       0.69      0.92      0.79        12\n",
      "\n",
      "   micro avg       0.83      0.83      0.83        36\n",
      "   macro avg       0.82      0.85      0.82        36\n",
      "weighted avg       0.86      0.83      0.84        36\n",
      "\n"
     ]
    },
    {
     "name": "stderr",
     "output_type": "stream",
     "text": [
      "/Library/Frameworks/Python.framework/Versions/3.7/lib/python3.7/site-packages/sklearn/svm/base.py:244: ConvergenceWarning: Solver terminated early (max_iter=10000000).  Consider pre-processing your data with StandardScaler or MinMaxScaler.\n",
      "  % self.max_iter, ConvergenceWarning)\n"
     ]
    }
   ],
   "source": [
    "# Polyniminal SVC\n",
    "svclassifier1 = SVC(kernel='poly', degree=3, gamma = 'auto', max_iter=10000000)  \n",
    "svclassifier1.fit(X_train, y_train) \n",
    "y_pred = svclassifier1.predict(X_test)  \n",
    "print(confusion_matrix(y_test,y_pred))  \n",
    "print(classification_report(y_test,y_pred)) "
   ]
  },
  {
   "cell_type": "markdown",
   "metadata": {},
   "source": [
    "## Feature Selection"
   ]
  },
  {
   "cell_type": "markdown",
   "metadata": {},
   "source": [
    "#### RFECV with Logistical Regression estimator"
   ]
  },
  {
   "cell_type": "code",
   "execution_count": 21,
   "metadata": {},
   "outputs": [
    {
     "name": "stderr",
     "output_type": "stream",
     "text": [
      "/Library/Frameworks/Python.framework/Versions/3.7/lib/python3.7/site-packages/sklearn/model_selection/_split.py:2053: FutureWarning: You should specify a value for 'cv' instead of relying on the default value. The default value will change from 3 to 5 in version 0.22.\n",
      "  warnings.warn(CV_WARNING, FutureWarning)\n"
     ]
    },
    {
     "name": "stdout",
     "output_type": "stream",
     "text": [
      "Number of Features Selected: 8\n",
      "Mask of Features Selected: [ True  True False  True  True  True False False  True  True False False\n",
      "  True]\n",
      "Ranking of Features: [1 1 3 1 1 1 2 6 1 1 5 4 1]\n",
      "Cross Validation Scores: [0.71577833 0.6936333  0.74342042 0.74355611 0.7361684  0.72937774\n",
      " 0.79261048 0.80621593 0.79246876 0.75049452 0.77799489 0.77813661\n",
      " 0.77857384]\n"
     ]
    }
   ],
   "source": [
    "logreg = LogisticRegression(multi_class = 'multinomial', solver='newton-cg', penalty='l2', max_iter=10000)\n",
    "rfe1 = RFECV(logreg)\n",
    "rfe1 = rfe1.fit(X_train, y_train)\n",
    "print('Number of Features Selected:', rfe1.n_features_)\n",
    "print('Mask of Features Selected:', rfe1.support_)\n",
    "print('Ranking of Features:', rfe1.ranking_)\n",
    "print('Cross Validation Scores:', rfe1.grid_scores_)"
   ]
  },
  {
   "cell_type": "markdown",
   "metadata": {},
   "source": [
    "#### RFECV with SVM estimator"
   ]
  },
  {
   "cell_type": "code",
   "execution_count": 22,
   "metadata": {},
   "outputs": [
    {
     "name": "stdout",
     "output_type": "stream",
     "text": [
      "Number of Features Selected: 8\n",
      "Mask of Features Selected: [ True  True False  True  True  True False False  True  True False False\n",
      "  True]\n",
      "Ranking of Features: [1 1 3 1 1 1 2 6 1 1 4 5 1]\n",
      "Cross Validation Scores: [0.72272278 0.72272278 0.71592609 0.7299567  0.75079606 0.75817171\n",
      " 0.79956699 0.8206898  0.81331416 0.77134595 0.77134595 0.79232101\n",
      " 0.77872763]\n"
     ]
    }
   ],
   "source": [
    "svclassifier = SVC(kernel='linear')  \n",
    "rfe2 = RFECV(svclassifier, cv = 3)\n",
    "rfe2 = rfe2.fit(X_train, y_train)\n",
    "print('Number of Features Selected:', rfe2.n_features_)\n",
    "print('Mask of Features Selected:', rfe2.support_)\n",
    "print('Ranking of Features:', rfe2.ranking_)\n",
    "print('Cross Validation Scores:', rfe2.grid_scores_)"
   ]
  },
  {
   "cell_type": "code",
   "execution_count": 28,
   "metadata": {},
   "outputs": [
    {
     "data": {
      "image/png": "[encoded data removed]",
      "text/plain": [
       "<Figure size 432x288 with 1 Axes>"
      ]
     },
     "metadata": {
      "needs_background": "light"
     },
     "output_type": "display_data"
    }
   ],
   "source": [
    "# Plot number of features vs. cross-validation scores\n",
    "#NOTE: Both our models seem to select the same features!\n",
    "plt.figure()\n",
    "plt.xlabel(\"Number of features selected\")\n",
    "plt.ylabel(\"Cross validation score (nb of correct classifications)\")\n",
    "plt.plot(range(1, len(rfe.grid_scores_) + 1), rfe.grid_scores_)\n",
    "plt.show()"
   ]
  },
  {
   "cell_type": "code",
   "execution_count": 30,
   "metadata": {},
   "outputs": [
    {
     "data": {
      "text/html": [
       "<div>\n",
       "<style scoped>\n",
       "    .dataframe tbody tr th:only-of-type {\n",
       "        vertical-align: middle;\n",
       "    }\n",
       "\n",
       "    .dataframe tbody tr th {\n",
       "        vertical-align: top;\n",
       "    }\n",
       "\n",
       "    .dataframe thead th {\n",
       "        text-align: right;\n",
       "    }\n",
       "</style>\n",
       "<table border=\"1\" class=\"dataframe\">\n",
       "  <thead>\n",
       "    <tr style=\"text-align: right;\">\n",
       "      <th></th>\n",
       "      <th>0</th>\n",
       "      <th>1</th>\n",
       "      <th>3</th>\n",
       "      <th>4</th>\n",
       "      <th>5</th>\n",
       "      <th>8</th>\n",
       "      <th>9</th>\n",
       "      <th>12</th>\n",
       "      <th>13</th>\n",
       "    </tr>\n",
       "  </thead>\n",
       "  <tbody>\n",
       "    <tr>\n",
       "      <th>0z64un</th>\n",
       "      <td>1.0</td>\n",
       "      <td>1</td>\n",
       "      <td>2.0</td>\n",
       "      <td>0.0</td>\n",
       "      <td>0.0</td>\n",
       "      <td>0.0</td>\n",
       "      <td>1.0</td>\n",
       "      <td>0.0</td>\n",
       "      <td>0</td>\n",
       "    </tr>\n",
       "    <tr>\n",
       "      <th>ryoo3j</th>\n",
       "      <td>2.0</td>\n",
       "      <td>1</td>\n",
       "      <td>3.0</td>\n",
       "      <td>0.0</td>\n",
       "      <td>0.0</td>\n",
       "      <td>1.6</td>\n",
       "      <td>0.0</td>\n",
       "      <td>0.0</td>\n",
       "      <td>0</td>\n",
       "    </tr>\n",
       "    <tr>\n",
       "      <th>yt1s1x</th>\n",
       "      <td>1.0</td>\n",
       "      <td>1</td>\n",
       "      <td>4.0</td>\n",
       "      <td>3.0</td>\n",
       "      <td>0.0</td>\n",
       "      <td>0.0</td>\n",
       "      <td>1.0</td>\n",
       "      <td>1.0</td>\n",
       "      <td>1</td>\n",
       "    </tr>\n",
       "    <tr>\n",
       "      <th>l2xjde</th>\n",
       "      <td>1.0</td>\n",
       "      <td>2</td>\n",
       "      <td>4.0</td>\n",
       "      <td>0.0</td>\n",
       "      <td>0.0</td>\n",
       "      <td>0.0</td>\n",
       "      <td>1.0</td>\n",
       "      <td>0.0</td>\n",
       "      <td>1</td>\n",
       "    </tr>\n",
       "    <tr>\n",
       "      <th>oyt4ek</th>\n",
       "      <td>3.0</td>\n",
       "      <td>2</td>\n",
       "      <td>1.0</td>\n",
       "      <td>0.0</td>\n",
       "      <td>0.0</td>\n",
       "      <td>4.2</td>\n",
       "      <td>1.0</td>\n",
       "      <td>0.0</td>\n",
       "      <td>0</td>\n",
       "    </tr>\n",
       "  </tbody>\n",
       "</table>\n",
       "</div>"
      ],
      "text/plain": [
       "         0   1    3    4    5    8    9    12  13\n",
       "0z64un  1.0   1  2.0  0.0  0.0  0.0  1.0  0.0   0\n",
       "ryoo3j  2.0   1  3.0  0.0  0.0  1.6  0.0  0.0   0\n",
       "yt1s1x  1.0   1  4.0  3.0  0.0  0.0  1.0  1.0   1\n",
       "l2xjde  1.0   2  4.0  0.0  0.0  0.0  1.0  0.0   1\n",
       "oyt4ek  3.0   2  1.0  0.0  0.0  4.2  1.0  0.0   0"
      ]
     },
     "execution_count": 30,
     "metadata": {},
     "output_type": "execute_result"
    }
   ],
   "source": [
    "mainfeatures_not = []\n",
    "for n, i in enumerate(rfe1.support_):\n",
    "    if not i:\n",
    "        mainfeatures_not.append(n)\n",
    "        continue;\n",
    "    if not rfe2.support_[n]:\n",
    "        mainfeatures_not.append(n)\n",
    "\n",
    "data8 = copy.deepcopy(data)\n",
    "data8.drop(axis=1, labels=mainfeatures , inplace=True)\n",
    "data8.head()"
   ]
  },
  {
   "cell_type": "code",
   "execution_count": 31,
   "metadata": {},
   "outputs": [
    {
     "name": "stdout",
     "output_type": "stream",
     "text": [
      "\n",
      "These the 8 selected Key features:\n",
      "\n",
      "slope_of_peak_exercise_st_segment\n",
      "thal\n",
      "chest_pain_type\n",
      "num_major_vessels\n",
      "fasting_blood_sugar_gt_120_mg_per_dl\n",
      "oldpeak_eq_st_depression\n",
      "sex\n",
      "exercise_induced_angina\n"
     ]
    }
   ],
   "source": [
    "print(\"\\nThese the 8 selected Key features:\\n\")\n",
    "for n,i in enumerate(rfe1.support_):\n",
    "    if i:\n",
    "        print(atributes[n+1])"
   ]
  },
  {
   "cell_type": "markdown",
   "metadata": {},
   "source": [
    "## Parameter Optimization"
   ]
  },
  {
   "cell_type": "code",
   "execution_count": null,
   "metadata": {},
   "outputs": [],
   "source": []
  },
  {
   "cell_type": "markdown",
   "metadata": {},
   "source": [
    "## Model Building (we should probs remove this, idk what even goes here)"
   ]
  },
  {
   "cell_type": "markdown",
   "metadata": {},
   "source": [
    "## K-fold Cross Validation"
   ]
  },
  {
   "cell_type": "markdown",
   "metadata": {},
   "source": [
    "###### NOTE: The code below has lines that will save the resulting figures to your local drive. Make sure these lines are commented out if you DO NOT want to save the figures to your local drive."
   ]
  },
  {
   "cell_type": "code",
   "execution_count": 32,
   "metadata": {},
   "outputs": [],
   "source": [
    "#Using 80-fold Stratified crossvalidaion\n",
    "skf = StratifiedKFold(n_splits=80) \n",
    "X = data8.loc[:, data8.columns != 13]\n",
    "y = np.array(data8.loc[:, data8.columns == 13]).reshape(180,)"
   ]
  },
  {
   "cell_type": "markdown",
   "metadata": {},
   "source": [
    "### The code below is NOT using optimized params for SCV and LogReg, please run the code with the correct params (remove this when this issue is addressed)"
   ]
  },
  {
   "cell_type": "code",
   "execution_count": null,
   "metadata": {},
   "outputs": [],
   "source": [
    "#Running CV for optimized Logistic regression and saving results to local drive\n",
    "logreg_opt = LogisticRegression(multi_class = 'multinomial', solver='newton-cg', penalty='l2', max_iter=10000, C=0.02)\n",
    "y_pred = np.zeros(180)\n",
    "y_pred_prob = np.zeros((180,2))\n",
    "\n",
    "for train, test in skf.split(X,y):\n",
    "    logreg_opt.fit(X.iloc[train],y[train])\n",
    "    y_pred[test] = logreg_opt.predict(X.iloc[test])\n",
    "    y_pred_prob[test] = logreg_opt.predict_proba(X.iloc[test])\n",
    "    \n",
    "lloss = log_loss(y, y_pred_prob)\n",
    "print(f'log loss: {lloss}')\n",
    "hplotls = sns.heatmap(confusion_matrix(y,y_pred),annot=True, cmap = 'coolwarm')\n",
    "fig1 = hplotls.get_figure()\n",
    "\n",
    "print(classification_report(y,y_pred)) \n",
    "\n",
    "logit_roc_auc = roc_auc_score(y, y_pred)\n",
    "fpr, tpr, thresholds = roc_curve(y, y_pred_prob[:,1])\n",
    "plt.figure()\n",
    "plt.plot(fpr, tpr, label='Logistic Regression (area = %0.2f)' % logit_roc_auc)\n",
    "plt.plot([0, 1], [0, 1],'r--')\n",
    "plt.xlim([0.0, 1.0])\n",
    "plt.ylim([0.0, 1.05])\n",
    "plt.xlabel('False Positive Rate')\n",
    "plt.ylabel('True Positive Rate')\n",
    "plt.title('Receiver operating characteristic')\n",
    "plt.legend(loc=\"lower right\")\n",
    "#print(logreg1.coef_)\n",
    "plt.show()\n",
    "\n",
    "\n",
    "######Comment out the code below to not save results to local drive\n",
    "fig1.savefig('hplotlreg.png',dpi=5000)\n",
    "plt.savefig('roclreg.png',dpi=5000)\n",
    "######"
   ]
  },
  {
   "cell_type": "code",
   "execution_count": null,
   "metadata": {},
   "outputs": [],
   "source": [
    "#Running CV for optimized SVC and saving results to local drive\n",
    "svc_opt = SVC(kernel='poly', degree=3, gamma = 'auto', C=0.05,)  \n",
    "y_predsvm = np.zeros(180)\n",
    "\n",
    "for train, test in skf.split(X,y):\n",
    "    svc_opt.fit(X.iloc[train],y[train])\n",
    "    y_predsvm[test] = svc_opt.predict(X.iloc[test])\n",
    "    #y_pred_prob[test] = svc1.predict_proba(X.iloc[test])\n",
    "    \n",
    "#lloss = log_loss(y, y_pred_prob)\n",
    "#print(f'log loss: {lloss}')\n",
    "\n",
    "hplotsvm = sns.heatmap(confusion_matrix(y,y_predsvm),annot=True, cmap = 'coolwarm')\n",
    "fig2 = hplotls.get_figure()\n",
    "\n",
    "print(classification_report(y,y_predsvm)) \n",
    "\n",
    "logit_roc_auc = roc_auc_score(y, y_predsvm)\n",
    "fpr, tpr, thresholds = roc_curve(y, y_predsvm)\n",
    "plt.figure()\n",
    "plt.plot(fpr, tpr, label='Logistic Regression (area = %0.2f)' % logit_roc_auc)\n",
    "plt.plot([0, 1], [0, 1],'r--')\n",
    "plt.xlim([0.0, 1.0])\n",
    "plt.ylim([0.0, 1.05])\n",
    "plt.xlabel('False Positive Rate')\n",
    "plt.ylabel('True Positive Rate')\n",
    "plt.title('Receiver operating characteristic')\n",
    "plt.legend(loc=\"lower right\")\n",
    "plt.show()\n",
    "\n",
    "######Comment out the code below to not save results to local drive\n",
    "fig2.savefig('hplotsvm.png',dpi=5000)\n",
    "plt.savefig('rocsvm.png',dpi=5000)\n",
    "######"
   ]
  },
  {
   "cell_type": "markdown",
   "metadata": {},
   "source": [
    "## Prediction and Submission for Contest"
   ]
  },
  {
   "cell_type": "code",
   "execution_count": null,
   "metadata": {},
   "outputs": [],
   "source": []
  }
 ],
 "metadata": {
  "kernelspec": {
   "display_name": "Python 3",
   "language": "python",
   "name": "python3"
  },
  "language_info": {
   "codemirror_mode": {
    "name": "ipython",
    "version": 3
   },
   "file_extension": ".py",
   "mimetype": "text/x-python",
   "name": "python",
   "nbconvert_exporter": "python",
   "pygments_lexer": "ipython3",
   "version": "3.7.0"
  }
 },
 "nbformat": 4,
 "nbformat_minor": 2
}
